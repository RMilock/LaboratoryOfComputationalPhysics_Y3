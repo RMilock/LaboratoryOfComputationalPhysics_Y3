{
 "cells": [
  {
   "cell_type": "markdown",
   "metadata": {},
   "source": [
    "# Modules/packages/libraries\n",
    "\n",
    "Definitions:\n",
    "\n",
    "  * Modules:\n",
    "  A module is a file which contains python functions, global variables etc. It is nothing but .py file which has python executable code / statement.\n",
    "\n",
    "  * Packages:\n",
    "  A package is namespace which contains multiple modules. It is a directory which contains a special file `__init__.py`(says that there's a package and there would be modules inside it)\n",
    "  \n",
    "  * Libraries:\n",
    "  A library is a collection of various packages and modules. There is no difference between package and python library conceptually.\n",
    "  \n",
    "Modules/packages/libraries can be easily \"imported\" and made functional in your python code. A set of libriaries comes with every python installation. Others can be installed locally and then imported. Your own code sitting somewhere else in your local computer can be imported too.\n",
    "\n",
    "Further details (very important!) on packages and how to create them can be found online. We may find the need of creating our own during the course.\n",
    "\n",
    "Comment: a script = module but w/ output->run directly; module= only func def->only imported"
   ]
  },
  {
   "cell_type": "code",
   "execution_count": 1,
   "metadata": {},
   "outputs": [
    {
     "name": "stdout",
     "output_type": "stream",
     "text": [
      "3.141592653589793\n",
      "3.141592653589793\n",
      "3.141592653589793\n",
      "2.6457513110645907\n"
     ]
    }
   ],
   "source": [
    "###### all the \"stuff\" that is in the math library can be used\n",
    "import math\n",
    "print(math.pi)\n",
    "\n",
    "# you can give math a label for convenience\n",
    "import math as m\n",
    "print (m.pi)\n",
    "\n",
    "# THIS: alternatively you can import only a given \"thing\" from the library\n",
    "from math import pi    #you can add several libraries at once, just list them separated by a \", \"\n",
    "print (pi)\n",
    "\n",
    "# or just import everything (clashes code-variable + math-variables very dangerous!!!)\n",
    "from math import *\n",
    "print (sqrt(7))"
   ]
  },
  {
   "cell_type": "markdown",
   "metadata": {},
   "source": [
    "To know which modules are there for you to use just type:"
   ]
  },
  {
   "cell_type": "code",
   "execution_count": 1,
   "metadata": {},
   "outputs": [
    {
     "name": "stdout",
     "output_type": "stream",
     "text": [
      "\n",
      "Please wait a moment while I gather a list of all available modules...\n",
      "\n"
     ]
    },
    {
     "name": "stderr",
     "output_type": "stream",
     "text": [
      "/home/hal20/anaconda3/lib/python3.8/site-packages/IPython/kernel/__init__.py:12: ShimWarning: The `IPython.kernel` package has been deprecated since IPython 4.0.You should import from ipykernel or jupyter_client instead.\n",
      "  warn(\"The `IPython.kernel` package has been deprecated since IPython 4.0.\"\n",
      "/home/hal20/anaconda3/lib/python3.8/site-packages/nltk/twitter/__init__.py:21: UserWarning: The twython library has not been installed. Some functionality from the twitter package will not be available.\n",
      "  warnings.warn(\n",
      "/home/hal20/anaconda3/lib/python3.8/site-packages/setuptools/distutils_patch.py:25: UserWarning: Distutils was imported before Setuptools. This usage is discouraged and may exhibit undesirable behaviors or errors. Please use Setuptools' objects directly or at least import Setuptools first.\n",
      "  warnings.warn(\n",
      "/home/hal20/anaconda3/lib/python3.8/site-packages/skimage/viewer/utils/__init__.py:1: UserWarning: Recommended matplotlib backend is `Agg` for full skimage.viewer functionality.\n",
      "  from .core import *\n",
      "/home/hal20/anaconda3/lib/python3.8/site-packages/qtawesome/iconic_font.py:312: UserWarning: You need to have a running QApplication to use QtAwesome!\n",
      "  warnings.warn(\"You need to have a running \"\n",
      "/home/hal20/anaconda3/lib/python3.8/pkgutil.py:107: VisibleDeprecationWarning: zmq.eventloop.minitornado is deprecated in pyzmq 14.0 and will be removed.\n",
      "    Install tornado itself to use zmq with the tornado IOLoop.\n",
      "    \n",
      "  yield from walk_packages(path, info.name+'.', onerror)\n"
     ]
    },
    {
     "name": "stdout",
     "output_type": "stream",
     "text": [
      "Cython              brain_numpy_core_multiarray jupyter_console     rmagic\n",
      "IPython             brain_numpy_core_numeric jupyter_core        rope\n",
      "OpenSSL             brain_numpy_core_numerictypes jupyterlab          rsa\n",
      "PIL                 brain_numpy_core_umath jupyterlab_server   rtree\n",
      "PyQt5               brain_numpy_ndarray jupytext            ruamel_yaml\n",
      "XRootD              brain_numpy_random_mtrand jwt                 runpy\n",
      "__future__          brain_numpy_utils   keras_preprocessing sched\n",
      "_abc                brain_pkg_resources keyring             schema\n",
      "_ast                brain_pytest        keyword             scipy\n",
      "_asyncio            brain_qt            kiwisolver          scripts\n",
      "_bisect             brain_random        lazy_object_proxy   seaborn\n",
      "_blake2             brain_re            lib2to3             secrets\n",
      "_bootlocale         brain_responses     libarchive          secretstorage\n",
      "_bz2                brain_scipy_signal  libfuturize         select\n",
      "_cffi_backend       brain_six           libpasteurize       selectors\n",
      "_codecs             brain_ssl           lief                send2trash\n",
      "_codecs_cn          brain_subprocess    linecache           setuptools\n",
      "_codecs_hk          brain_threading     llvmlite            shelve\n",
      "_codecs_iso2022     brain_typing        locale              shlex\n",
      "_codecs_jp          brain_uuid          locket              shutil\n",
      "_codecs_kr          brotli              logging             signal\n",
      "_codecs_tw          bs4                 lxml                simplegeneric\n",
      "_collections        bson                lz4                 simplejson\n",
      "_collections_abc    builtins            lzma                singledispatch\n",
      "_compat_pickle      bz2                 mailbox             singledispatch_helpers\n",
      "_compression        cProfile            mailcap             sip\n",
      "_contextvars        cachetools          markdown            sipconfig\n",
      "_crypt              caffe2              markdown_it         sipdistutils\n",
      "_csv                calendar            markupsafe          site\n",
      "_ctypes             certifi             marshal             six\n",
      "_ctypes_test        cffi                math                skimage\n",
      "_curses             cgi                 matplotlib          sklearn\n",
      "_curses_panel       cgitb               mccabe              smtpd\n",
      "_datetime           chardet             mimetypes           smtplib\n",
      "_decimal            chunk               mistune             sndhdr\n",
      "_dummy_thread       click               mkl                 snowballstemmer\n",
      "_elementtree        cloudpickle         mkl_fft             socket\n",
      "_functools          clyent              mkl_random          socketserver\n",
      "_hashlib            cmath               mmap                socks\n",
      "_heapq              cmd                 mock                sockshandler\n",
      "_imp                code                modulefinder        sortedcollections\n",
      "_io                 codecs              more_itertools      sortedcontainers\n",
      "_json               codeop              mpmath              soupsieve\n",
      "_locale             collections         msgpack             sphinx\n",
      "_lsprof             colorama            multidict           sphinxcontrib\n",
      "_lzma               colorsys            multipledispatch    spwd\n",
      "_markupbase         compileall          multiprocessing     spyder\n",
      "_md5                concurrent          navigator_updater   spyder_kernels\n",
      "_multibytecodec     conda               nbconvert           sqlalchemy\n",
      "_multiprocessing    conda_build         nbformat            sqlite3\n",
      "_opcode             conda_env           netifaces           sre_compile\n",
      "_operator           conda_package_handling netrc               sre_constants\n",
      "_osx_support        conda_verify        networkx            sre_parse\n",
      "_pickle             configparser        nis                 ssl\n",
      "_posixshmem         contextlib          nltk                stat\n",
      "_posixsubprocess    contextlib2         nni                 statistics\n",
      "_py_abc             contextvars         nni_annotation      statsmodels\n",
      "_pydecimal          copy                nni_cmd             storemagic\n",
      "_pyio               copyreg             nni_gpu_tool        string\n",
      "_pyrsistent_version coverage            nni_trial_tool      stringprep\n",
      "_pytest             crypt               nnicli              struct\n",
      "_queue              cryptography        nntplib             subprocess\n",
      "_random             csv                 nose                sunau\n",
      "_sha1               ctypes              notebook            symbol\n",
      "_sha256             curl                ntpath              sympy\n",
      "_sha3               curses              nturl2path          sympyprinting\n",
      "_sha512             cycler              numba               symtable\n",
      "_signal             cython              numbers             sys\n",
      "_sitebuiltins       cythonmagic         numexpr             sysconfig\n",
      "_socket             cytoolz             numpy               syslog\n",
      "_sqlite3            dask                numpydoc            tables\n",
      "_sre                dataclasses         oauthlib            tabnanny\n",
      "_ssl                datetime            olefile             tarfile\n",
      "_stat               dateutil            opcode              tblib\n",
      "_statistics         dbm                 openpyxl            telnetlib\n",
      "_string             decimal             operator            tempfile\n",
      "_strptime           decorator           opt_einsum          tensorboard\n",
      "_struct             defusedxml          optparse            tensorboard_plugin_wit\n",
      "_symtable           diff_match_patch    os                  tensorflow\n",
      "_sysconfigdata__linux_x86_64-linux-gnu difflib             ossaudiodev         tensorflow_estimator\n",
      "_sysconfigdata_aarch64_conda_cos7_linux_gnu dis                 packaging           termcolor\n",
      "_sysconfigdata_i686_conda_cos6_linux_gnu distributed         pandas              terminado\n",
      "_sysconfigdata_powerpc64le_conda_cos7_linux_gnu distutils           pandocfilters       termios\n",
      "_sysconfigdata_x86_64_apple_darwin13_4_0 doctest             parser              test\n",
      "_sysconfigdata_x86_64_conda_cos6_linux_gnu docutils            parso               test_data\n",
      "_testbuffer         dummy_threading     partd               test_pycosat\n",
      "_testcapi           easy_install        past                testpath\n",
      "_testimportmultiple email               pasta               tests\n",
      "_testinternalcapi   encodings           path                textwrap\n",
      "_testmultiphase     ensurepip           pathlib             this\n",
      "_thread             entrypoints         pathlib2            threading\n",
      "_threading_local    enum                pathtools           threadpoolctl\n",
      "_tkinter            errno               patsy               time\n",
      "_tracemalloc        et_xmlfile          pdb                 timeit\n",
      "_warnings           fastcache           pep8                tkinter\n",
      "_weakref            faulthandler        pexpect             tlz\n",
      "_weakrefset         fcntl               pickle              token\n",
      "_xxsubinterpreters  filecmp             pickleshare         tokenize\n",
      "_xxtestfuzz         fileinput           pickletools         toml\n",
      "_yaml               filelock            pip                 toolz\n",
      "_zstd_cffi          flake8              pipes               torch\n",
      "abc                 flask               pkg_resources       torchvision\n",
      "absl                fnmatch             pkginfo             tornado\n",
      "aifc                formatter           pkgutil             tqdm\n",
      "aiohttp             fractions           platform            trace\n",
      "alabaster           fsspec              plistlib            traceback\n",
      "anaconda_navigator  ftplib              pluggy              tracemalloc\n",
      "anaconda_project    functools           ply                 traitlets\n",
      "antigravity         future              poplib              tty\n",
      "argh                gast                posix               turtle\n",
      "argparse            gc                  posixpath           turtledemo\n",
      "array               genericpath         pprint              types\n",
      "asn1crypto          getopt              profile             typing\n",
      "ast                 getpass             prometheus_client   typing_extensions\n",
      "astor               gettext             prompt_toolkit      ujson\n",
      "astroid             gevent              pstats              unicodecsv\n",
      "astropy             glob                psutil              unicodedata\n",
      "astunparse          glob2               pty                 unittest\n",
      "async_timeout       gmpy2               ptyprocess          uproot\n",
      "asynchat            google_auth_oauthlib pvectorc            uproot_methods\n",
      "asyncio             greenlet            pwd                 urllib\n",
      "asyncore            gridfs              py                  urllib3\n",
      "atexit              grp                 py_compile          uu\n",
      "atomicwrites        grpc                pyasn1              uuid\n",
      "attr                gzip                pyasn1_modules      venv\n",
      "audioop             h5py                pyclbr              warnings\n",
      "autopep8            hashlib             pycodestyle         watchdog\n",
      "autoreload          heapdict            pycosat             wave\n",
      "awkward             heapq               pycparser           wcwidth\n",
      "babel               hmac                pycurl              weakref\n",
      "backcall            html                pydoc               webbrowser\n",
      "backports           html5lib            pydoc_data          webencodings\n",
      "base64              http                pydocstyle          websockets\n",
      "bdb                 hyperopt            pyexpat             werkzeug\n",
      "binascii            idlelib             pyflakes            wheel\n",
      "binhex              idna                pygments            widgetsnbextension\n",
      "binstar_client      imageio             pyhdfs              wrapt\n",
      "bisect              imagesize           pylab               wsgiref\n",
      "bitarray            imaplib             pylint              wurlitzer\n",
      "bkcharts            imghdr              pyls                xdg\n",
      "bleach              imp                 pyls_jsonrpc        xdrlib\n",
      "blinker             importlib           pymongo             xgboost\n",
      "bokeh               importlib_metadata  pyodbc              xlrd\n",
      "boto                inspect             pyparsing           xlsxwriter\n",
      "bottleneck          intervaltree        pyrsistent          xlwt\n",
      "brain_argparse      io                  pytest              xml\n",
      "brain_attrs         ipaddress           pytz                xmlrpc\n",
      "brain_boto3         ipykernel           pywt                xmltodict\n",
      "brain_builtin_inference ipykernel_launcher  pyximport           xxhash\n",
      "brain_collections   ipython_genutils    pyxrootd            xxlimited\n",
      "brain_crypt         ipywidgets          qdarkstyle          xxsubtype\n",
      "brain_curses        isort               qtawesome           yaml\n",
      "brain_dataclasses   isympy              qtconsole           yapf\n",
      "brain_dateutil      itertools           qtpy                yapftests\n",
      "brain_fstrings      itsdangerous        queue               yarl\n",
      "brain_functools     jdcal               quopri              zict\n",
      "brain_gi            jedi                random              zipapp\n",
      "brain_hashlib       jeepney             re                  zipfile\n",
      "brain_http          jinja2              readline            zipimport\n",
      "brain_io            joblib              regex               zipp\n",
      "brain_mechanize     json                reprlib             zlib\n",
      "brain_multiprocessing json5               requests            zmq\n",
      "brain_namedtuple_enum json_tricks         requests_oauthlib   zope\n",
      "brain_nose          jsonschema          resource            zstandard\n",
      "brain_numpy_core_fromnumeric jupyter             responses           zstd\n",
      "brain_numpy_core_function_base jupyter_client      rlcompleter         \n",
      "\n",
      "Enter any module name to get more help.  Or, type \"modules spam\" to search\n",
      "for modules whose name or summary contain the string \"spam\".\n",
      "\n",
      "None\n"
     ]
    }
   ],
   "source": [
    "print (help('modules') ) #some issues"
   ]
  },
  {
   "cell_type": "markdown",
   "metadata": {},
   "source": [
    "`pip` is a special package. It is used from the command line to install properly (e.g. matching the version of the local packages) new packages. It can also be used from within python to check i.e. the set installed packages and their versions. N.B.: only the installed packages on top of the default ones will be listed "
   ]
  },
  {
   "cell_type": "code",
   "execution_count": 8,
   "metadata": {},
   "outputs": [
    {
     "name": "stdout",
     "output_type": "stream",
     "text": [
      "Python 3.8.3\n",
      "pip 20.2.3 from /home/hal20/anaconda3/lib/python3.8/site-packages/pip (python 3.8)\n"
     ]
    }
   ],
   "source": [
    "import pip; import sys\n",
    "!{sys.executable} --version\n",
    "!pip --version"
   ]
  },
  {
   "cell_type": "markdown",
   "metadata": {},
   "source": [
    "# Functions"
   ]
  },
  {
   "cell_type": "code",
   "execution_count": 135,
   "metadata": {},
   "outputs": [
    {
     "name": "stdout",
     "output_type": "stream",
     "text": [
      "9\n",
      "27\n",
      "cube 27\n",
      "square 9\n"
     ]
    }
   ],
   "source": [
    "def square(x):\n",
    "    \"\"\"Square of x.\"\"\"\n",
    "    return x*x\n",
    "\n",
    "def cube(x):\n",
    "    \"\"\"Cube of x.\"\"\"\n",
    "    return x*x*x\n",
    "\n",
    "# create a dictionary of functions\n",
    "funcs = {\n",
    "    'square': square,\n",
    "    'cube': cube,\n",
    "}\n",
    "\n",
    "x = 3\n",
    "print(square(x))\n",
    "print(cube(x))\n",
    "\n",
    "for func in sorted(funcs): #this for collects only keys\n",
    "    print (func, funcs[func](x))"
   ]
  },
  {
   "cell_type": "markdown",
   "metadata": {},
   "source": [
    "## Functions arguments"
   ]
  },
  {
   "cell_type": "markdown",
   "metadata": {},
   "source": [
    "What is passsed to a function is a copy of the input. Imagine we have a list *x =[1, 2, 3]*, i.e. a mutable object. If within the function the content of *x* is directly changed (e.g. *x[0] = 999*), then *x* changes outside the funciton as well. "
   ]
  },
  {
   "cell_type": "code",
   "execution_count": 24,
   "metadata": {},
   "outputs": [
    {
     "name": "stdout",
     "output_type": "stream",
     "text": [
      "[1, 2, 3] 93881928572224\n",
      "[999, 2, 3]\n",
      "139689522914352\n",
      "[999, 2, 3]\n",
      "139689522914352\n"
     ]
    }
   ],
   "source": [
    "#write a fun to show explicit that \"=\" makes a copy of the object\n",
    "\n",
    "def modify(x): #pass a copy of that object. List is mutable->modify it directly\n",
    "    x[0] = 999; #\"=\" is making a copy\n",
    "    return x\n",
    "\n",
    "x = [1,2,3]\n",
    "print(x, id(x[0]))\n",
    "print(modify(x)); print(id(modify(x)[0])) #mod 1st element, x is a copy of the input\n",
    "print(x); print(id(x[0]))"
   ]
  },
  {
   "cell_type": "markdown",
   "metadata": {},
   "source": [
    "However, if *x* is reassigned within the function to a new object (e.g. another list), then the copy of the name *x* now points to the new object, but *x* outside the function is unchanged."
   ]
  },
  {
   "cell_type": "code",
   "execution_count": 13,
   "metadata": {},
   "outputs": [
    {
     "name": "stdout",
     "output_type": "stream",
     "text": [
      "[1, 2, 3] ['a', 'b', 'c'] [1, 2, 3]\n",
      "[7, 8, 9] [4, 5, 6] [4, 5, 6]\n",
      "140402951694912 x is not mod in 140402951694912\n",
      "140402951956160 y is mod in 140402951956160\n"
     ]
    }
   ],
   "source": [
    "def nomod(x): x=[\"a\",\"b\",\"c\"]; return x #nb: also .append is making a copy\n",
    "def mod(): global y; y=[4,5,6]; return y\n",
    "\n",
    "x=[1,2,3]; y=[7,8,9]\n",
    "\n",
    "print(x,nomod(x),x)\n",
    "print(y,mod(),y)\n",
    "\n",
    "print(id(x), \"x is not mod in\", id(x))\n",
    "print(id(y), \"y is mod in\", id(y))"
   ]
  },
  {
   "cell_type": "markdown",
   "metadata": {},
   "source": [
    "What if the function tries to modify the value of an immutable object, ex. tuples or list?"
   ]
  },
  {
   "cell_type": "code",
   "execution_count": 18,
   "metadata": {},
   "outputs": [
    {
     "name": "stdout",
     "output_type": "stream",
     "text": [
      "a is mutable and = to [3, 'h', 'a', 't']\n"
     ]
    }
   ],
   "source": [
    "#check wheter an object is mutable or immutable\n",
    "a = list(\"What\"); #try with str/tuple\n",
    "try: a[0]=3; print(\"a is mutable and = to\", a)\n",
    "except: print(\"a is immutable\")"
   ]
  },
  {
   "cell_type": "code",
   "execution_count": 40,
   "metadata": {},
   "outputs": [
    {
     "name": "stdout",
     "output_type": "stream",
     "text": [
      "<class 'str'> Mutable is mutable\n"
     ]
    }
   ],
   "source": [
    "#try with set, list and dic are mutable\n",
    "a = list(\"Immutable\")\n",
    "\n",
    "dic={}#; print(type(unique))\n",
    "for i,ch in enumerate(a): dic[i] = ch #???\n",
    "    \n",
    "try: a=\"Mutable\"; print(type(a),a, \"is mutable\")\n",
    "except: print(type(a),a,\"is immutable\")"
   ]
  },
  {
   "cell_type": "markdown",
   "metadata": {},
   "source": [
    "Binding of default arguments occurs at function definition:"
   ]
  },
  {
   "cell_type": "code",
   "execution_count": 48,
   "metadata": {},
   "outputs": [
    {
     "name": "stdout",
     "output_type": "stream",
     "text": [
      "[1]\n",
      "[1, 1]\n",
      "[9, 9, 9, 1]\n",
      "[9, 9, 9, 1]\n",
      "[1, 1, 1]\n",
      "[1, 1, 1, 1]\n"
     ]
    }
   ],
   "source": [
    "def f(x=[]): \n",
    "    #like putting below f(x=[]) in turns of f()\n",
    "    #here we're updating x (see below to reset x @ eah call)\n",
    "    x.append(1)\n",
    "    return x\n",
    "\n",
    "print(f())\n",
    "print(f())\n",
    "print(f(x = [9,9,9]))\n",
    "print(f(x = [9,9,9]))\n",
    "#x=[9,9,9] is not preserved in the rest of the code\n",
    "print(f())\n",
    "print(f())"
   ]
  },
  {
   "cell_type": "markdown",
   "metadata": {},
   "source": [
    "Try to avoid that!!"
   ]
  },
  {
   "cell_type": "code",
   "execution_count": 11,
   "metadata": {},
   "outputs": [
    {
     "name": "stdout",
     "output_type": "stream",
     "text": [
      "[3, 1]\n",
      "[3, 1]\n",
      "[9, 9, 9, 1]\n",
      "[3, 1]\n",
      "[3, 1]\n"
     ]
    }
   ],
   "source": [
    "#avoid this in this way, by resetting all the time x\n",
    "def f(x = None):\n",
    "    if x is None: x = [3]\n",
    "    x.append(1)\n",
    "    return x\n",
    "\n",
    "print(f())\n",
    "print(f())\n",
    "print(f(x = [9,9,9]))\n",
    "print(f())\n",
    "print(f())"
   ]
  },
  {
   "cell_type": "code",
   "execution_count": 69,
   "metadata": {},
   "outputs": [
    {
     "name": "stdout",
     "output_type": "stream",
     "text": [
      "[1]\n",
      "[1, 1]\n",
      "[1, 1, 1]\n",
      "[3, 1]\n",
      "[1, 1, 1, 1]\n",
      "[1, 2]\n",
      "[1, 2]\n",
      "[5, 2]\n"
     ]
    }
   ],
   "source": [
    "def f(x=[]): x.append(1); return print(x)\n",
    "f(); f(); f(); f(x=[3]); f()\n",
    "\n",
    "def f(x=None): \n",
    "    if x is None: x=[1]; \n",
    "    x.append(2); return print(x)\n",
    "f(); f(); f(x=[5])"
   ]
  },
  {
   "cell_type": "markdown",
   "metadata": {},
   "source": [
    "## Higher order functions\n",
    "\n",
    "Function acts on function (func of func) not only variable. All these are extremely common. A way to get compact code.\n",
    "A function that uses another function as an input argument or returns a function is known as a higher-order function (HOF). The most familiar examples are `map` and `filter`."
   ]
  },
  {
   "cell_type": "markdown",
   "metadata": {},
   "source": [
    "### map\n",
    "\n",
    "The map function applies a function to each member of a collection; \"cast\" is present also in python"
   ]
  },
  {
   "cell_type": "code",
   "execution_count": 87,
   "metadata": {},
   "outputs": [
    {
     "name": "stdout",
     "output_type": "stream",
     "text": [
      "(0, 1, 4, 9, 16)\n",
      "[0, 1, 2, 3, 4] [0, 1, 4, 9, 16]\n"
     ]
    }
   ],
   "source": [
    "def square(x): return x**2\n",
    "x = tuple(map(square,range(5)))  #map(unc, list)-> list\n",
    "print (x)\n",
    "\n",
    "y=[i for i in range(5)]\n",
    "x = list(map(square,y))\n",
    "\n",
    "print(y,x)\n",
    "# Note the difference w.r.t python 2. In python 3 map retuns an iterator so you can do stuff like:\n",
    "#for i in map(square,range(5)): print(i)"
   ]
  },
  {
   "cell_type": "markdown",
   "metadata": {},
   "source": [
    "### filter\n",
    "\n",
    "The filter function applies a predicate to each memmber of a collection, retaining only those members where the predicate is True"
   ]
  },
  {
   "cell_type": "code",
   "execution_count": 10,
   "metadata": {},
   "outputs": [
    {
     "name": "stdout",
     "output_type": "stream",
     "text": [
      "False\n",
      "[0, 2, 4]\n"
     ]
    }
   ],
   "source": [
    "def is_even(x):\n",
    "    return x%2 == 0 #resto\n",
    "\n",
    "print(is_even(5))\n",
    "print (list(filter(is_even, range(5))))"
   ]
  },
  {
   "cell_type": "code",
   "execution_count": 28,
   "metadata": {},
   "outputs": [
    {
     "data": {
      "text/plain": [
       "[0, 4, 16]"
      ]
     },
     "execution_count": 28,
     "metadata": {},
     "output_type": "execute_result"
    }
   ],
   "source": [
    "list(map(square, filter(is_even, range(5))))"
   ]
  },
  {
   "cell_type": "markdown",
   "metadata": {},
   "source": [
    "### reduce\n",
    "\n",
    "The reduce function reduces a collection using a binary operator to combine items two at a time. More often than not reduce can be substituted with a more efficient for loop. It is worth mentioning it for its key role in big-data applications together with map (the map-reduce paradigm). \n",
    "N.B.: it no loger exist as built-in function in python 3, it is now part of the `functools` library"
   ]
  },
  {
   "cell_type": "code",
   "execution_count": 159,
   "metadata": {},
   "outputs": [
    {
     "name": "stdout",
     "output_type": "stream",
     "text": [
      "15\n",
      "[4, 6, 8, 10, 12]\n",
      "15\n",
      "9\n",
      "[3, 5, 7, 9, 5]\n"
     ]
    }
   ],
   "source": [
    "from functools import reduce\n",
    "\n",
    "def my_add(x, y):\n",
    "    #print(x+y)\n",
    "    return x + y\n",
    "\n",
    "def map_red(x): return sum(x)\n",
    "\n",
    "def pair_red(x): \n",
    "    for i in range(0,len(x)-1): x[i]=x[i]+x[i+1]\n",
    "    print(x[i]); return x\n",
    "\n",
    "a=[1,2,3,4,5]\n",
    "b=[3,4,5,6,7]\n",
    "\n",
    "# another implementation of the sum function: 2x2\n",
    "y=reduce(my_add, a)\n",
    "print(y)\n",
    "\n",
    "# introduce a second list b and apply my_add via map != from reduce!\n",
    "x = list(map(my_add, a, b))\n",
    "print(x)\n",
    "x = map_red(a)\n",
    "print(x)\n",
    "\n",
    "c=pair_red(a)\n",
    "print(c)"
   ]
  },
  {
   "cell_type": "markdown",
   "metadata": {},
   "source": [
    "### zip\n",
    "\n",
    "zip is useful when you need to iterate over matched elements of multiple lists"
   ]
  },
  {
   "cell_type": "code",
   "execution_count": 133,
   "metadata": {},
   "outputs": [
    {
     "name": "stdout",
     "output_type": "stream",
     "text": [
      "1 10 a\n",
      "2 20 b\n",
      "3 30 c\n",
      "4 40 d\n",
      "(1, 10, 'a')\n",
      "(2, 20, 'b')\n",
      "(3, 30, 'c')\n",
      "(4, 40, 'd')\n"
     ]
    }
   ],
   "source": [
    "#combine el homogenous across the lists\n",
    "a = [1, 2, 3, 4]\n",
    "b = [10, 20, 30, 40]\n",
    "c = ['a', 'b', 'c', 'd', 'e']\n",
    "\n",
    "for x, y, z in zip(a, b, c):\n",
    "    print (x, y, z)\n",
    "for x in zip(a,b,c): print(x)"
   ]
  },
  {
   "cell_type": "code",
   "execution_count": 132,
   "metadata": {},
   "outputs": [
    {
     "name": "stdout",
     "output_type": "stream",
     "text": [
      "[[], [0], [0, 1], [0, 1, 2], [0, 1, 2, 3], [0, 1, 2, 3, 4], [0, 1, 2, 3, 4, 5], [0, 1, 2, 3, 4, 5, 6], [0, 1, 2, 3, 4, 5, 6, 7], [0, 1, 2, 3, 4, 5, 6, 7, 8], [0, 1, 2, 3, 4, 5, 6, 7, 8, 9]]\n",
      "H\n",
      "e\n",
      "l\n",
      "l\n",
      "o\n",
      "0 0 0\n",
      "1 1 1\n",
      "2 2 2\n"
     ]
    }
   ],
   "source": [
    "#zip things togheter:\n",
    "\n",
    "#create iter a list b[0],b[1],...\n",
    "N=int(10)+1\n",
    "b=[]\n",
    "for i in range(0,N):\n",
    "    a=[x for x in range(0,i)]\n",
    "    b.append(a)\n",
    "print(b)\n",
    "\n",
    "#create iteretevely a dictionary\n",
    "d = {}\n",
    "word=\"Hello\"\n",
    "for x in range(0, len(word)):\n",
    "    d[\"string{0}\".format(x)] = word[x]\n",
    "for x in d:\n",
    "    print(d[x])"
   ]
  },
  {
   "cell_type": "markdown",
   "metadata": {},
   "source": [
    "### Custom HOF"
   ]
  },
  {
   "cell_type": "code",
   "execution_count": 134,
   "metadata": {},
   "outputs": [
    {
     "name": "stdout",
     "output_type": "stream",
     "text": [
      "30\n"
     ]
    },
    {
     "ename": "NameError",
     "evalue": "name 'cube' is not defined",
     "output_type": "error",
     "traceback": [
      "\u001b[0;31m---------------------------------------------------------------------------\u001b[0m",
      "\u001b[0;31mNameError\u001b[0m                                 Traceback (most recent call last)",
      "\u001b[0;32m<ipython-input-134-62a493da600a>\u001b[0m in \u001b[0;36m<module>\u001b[0;34m\u001b[0m\n\u001b[1;32m      5\u001b[0m \u001b[0ma\u001b[0m \u001b[0;34m=\u001b[0m \u001b[0mrange\u001b[0m\u001b[0;34m(\u001b[0m\u001b[0;36m5\u001b[0m\u001b[0;34m)\u001b[0m\u001b[0;34m\u001b[0m\u001b[0;34m\u001b[0m\u001b[0m\n\u001b[1;32m      6\u001b[0m \u001b[0mprint\u001b[0m \u001b[0;34m(\u001b[0m\u001b[0mcustom_sum\u001b[0m\u001b[0;34m(\u001b[0m\u001b[0msquare\u001b[0m\u001b[0;34m,\u001b[0m \u001b[0ma\u001b[0m\u001b[0;34m)\u001b[0m\u001b[0;34m)\u001b[0m\u001b[0;34m\u001b[0m\u001b[0;34m\u001b[0m\u001b[0m\n\u001b[0;32m----> 7\u001b[0;31m \u001b[0mprint\u001b[0m \u001b[0;34m(\u001b[0m\u001b[0mcustom_sum\u001b[0m\u001b[0;34m(\u001b[0m\u001b[0mcube\u001b[0m\u001b[0;34m,\u001b[0m \u001b[0ma\u001b[0m\u001b[0;34m)\u001b[0m\u001b[0;34m)\u001b[0m\u001b[0;34m\u001b[0m\u001b[0;34m\u001b[0m\u001b[0m\n\u001b[0m",
      "\u001b[0;31mNameError\u001b[0m: name 'cube' is not defined"
     ]
    }
   ],
   "source": [
    "def custom_sum(transform, a):\n",
    "    \"\"\"Returns the sum of a after a user specified transform.\"\"\"\n",
    "    return sum(map(transform, a))\n",
    "\n",
    "a = range(5)\n",
    "print (custom_sum(square, a))\n",
    "print (custom_sum(cube, a))"
   ]
  },
  {
   "cell_type": "markdown",
   "metadata": {},
   "source": [
    "### Returning a function"
   ]
  },
  {
   "cell_type": "code",
   "execution_count": 6,
   "metadata": {},
   "outputs": [
    {
     "name": "stdout",
     "output_type": "stream",
     "text": [
      "Hello\n",
      "World\n",
      "\n"
     ]
    }
   ],
   "source": [
    "#create a func of func s.t. write in a file is like f(\"word\")\n",
    "def make_logger(target):\n",
    "    def logger(data):\n",
    "        file=open(target, 'a+') #create target (if not) and write \"data\"\n",
    "        file.write(data + '\\n')\n",
    "    return logger\n",
    "def file(str): file=open(\"foo.txt\",str); return file;\n",
    "\n",
    "\n",
    "foo_logger = make_logger(\"foo.txt\") \n",
    "\n",
    "foo_logger('Hello') #append \"Hello\" in \"foo.txt\" (prev created by make_logger func)\n",
    "foo_logger('World')\n",
    "print(file(\"r\").read())\n",
    "\n",
    "#cancel all and close it\n",
    "file(\"w\").truncate(); \n",
    "file(\"w\").close()"
   ]
  },
  {
   "cell_type": "code",
   "execution_count": 7,
   "metadata": {},
   "outputs": [
    {
     "name": "stdout",
     "output_type": "stream",
     "text": [
      "Hello\n",
      "World\n",
      "\n"
     ]
    },
    {
     "data": {
      "text/plain": [
       "0"
      ]
     },
     "execution_count": 7,
     "metadata": {},
     "output_type": "execute_result"
    }
   ],
   "source": [
    "def wron(target): \n",
    "    def logger(data):\n",
    "        with open(target, \"a\") as f:\n",
    "            f.write(data+'\\n')\n",
    "            f.close()\n",
    "    return logger\n",
    "\n",
    "\n",
    "logger = wron(\"foo.txt\")\n",
    "logger(\"Hello\")\n",
    "logger(\"World\")\n",
    "\n",
    "print(file(\"r\").read())\n",
    "file(\"w\").truncate()"
   ]
  },
  {
   "cell_type": "code",
   "execution_count": 216,
   "metadata": {},
   "outputs": [],
   "source": [
    "def make_logger(target):\n",
    "    def logger(data):\n",
    "        with open(target, 'a') as f:\n",
    "            f.write(data + '\\n')\n",
    "    return logger\n",
    "\n",
    "foo_logger = make_logger('foo.txt') #foo.txt verrà creato se non esiste già\n",
    "\n",
    "foo_logger('Hello')\n",
    "foo_logger('World')"
   ]
  },
  {
   "cell_type": "code",
   "execution_count": 217,
   "metadata": {},
   "outputs": [
    {
     "name": "stdout",
     "output_type": "stream",
     "text": [
      "Hello\n",
      "World\n",
      "Hello\n",
      "World\n",
      "Hello\n",
      "World\n"
     ]
    }
   ],
   "source": [
    "! cat 'foo.txt'"
   ]
  },
  {
   "cell_type": "markdown",
   "metadata": {},
   "source": [
    "## Anonimous functions (lambda)\n",
    "\n",
    "When using functional style, there is often the need to create specific functions that perform a limited task as input to a HOF such as map or filter. In such cases, these functions are often written as anonymous or lambda functions. \n",
    "The syntax is as follows:\n",
    "\n",
    "lambda *arguments* : *expression*\n",
    "\n",
    "\n",
    "If you find it hard to understand what a lambda function is doing, it should probably be rewritten as a regular function."
   ]
  },
  {
   "cell_type": "code",
   "execution_count": 3,
   "metadata": {},
   "outputs": [
    {
     "data": {
      "text/plain": [
       "7"
      ]
     },
     "execution_count": 3,
     "metadata": {},
     "output_type": "execute_result"
    }
   ],
   "source": [
    "sum = lambda x,y: x+y #insted of def but \"on the fly\" definition\n",
    "sum(3,4)"
   ]
  },
  {
   "cell_type": "code",
   "execution_count": 16,
   "metadata": {},
   "outputs": [
    {
     "name": "stdout",
     "output_type": "stream",
     "text": [
      "0\n",
      "1\n",
      "4\n",
      "9\n",
      "16\n",
      "(2, 3)\n"
     ]
    }
   ],
   "source": [
    "from functools import reduce\n",
    "\n",
    "for i in map(lambda x: x*x, range(5)): print (i)\n",
    "\n",
    "l=reduce(lambda x,y: x*y, (1,1),(2,3))\n",
    "print(l)"
   ]
  },
  {
   "cell_type": "code",
   "execution_count": 9,
   "metadata": {},
   "outputs": [
    {
     "name": "stdout",
     "output_type": "stream",
     "text": [
      "This is awesome!\n"
     ]
    }
   ],
   "source": [
    "# what does this function do? sum of x**2 for x in range(1,10)\n",
    "from functools import reduce\n",
    "temp=int()\n",
    "s1 = reduce(lambda x, y: x+y, map(lambda x: x**2, range(1,10)))\n",
    "#ANSWER:\n",
    "sum = sum([i**2 for i in range(1,10)])\n",
    "if sum==s1: print(\"This is awesome!\")\n",
    "else: print(\"You've another shot, buddy\")"
   ]
  },
  {
   "cell_type": "markdown",
   "metadata": {},
   "source": [
    "## Recursive functions "
   ]
  },
  {
   "cell_type": "code",
   "execution_count": 59,
   "metadata": {},
   "outputs": [
    {
     "name": "stdout",
     "output_type": "stream",
     "text": [
      "[1, 1, 2, 3, 5, 8, 13, 21, 34, 55]\n"
     ]
    }
   ],
   "source": [
    "#recursion is of the function itself\n",
    "def fib1(n):\n",
    "    \"\"\"Fib with recursion.\"\"\"\n",
    "    # base case\n",
    "    if n==0 or n==1:\n",
    "        return 1\n",
    "    # recursive case\n",
    "    else:\n",
    "        return fib1(n-1) + fib1(n-2)\n",
    "\n",
    "print ([fib1(i) for i in range(10)])"
   ]
  },
  {
   "cell_type": "code",
   "execution_count": 13,
   "metadata": {},
   "outputs": [
    {
     "name": "stdout",
     "output_type": "stream",
     "text": [
      "[1, 1, 2, 3, 5, 8, 13, 21, 34, 55]\n"
     ]
    }
   ],
   "source": [
    "# In Python, a more efficient version that use recursion inside\n",
    "def fib2(n):\n",
    "    \"\"\"Fib without recursion.\"\"\"\n",
    "    a, b = 0, 1\n",
    "    for i in range(1, n+1):\n",
    "        a, b = b, a+b\n",
    "    return b\n",
    "\n",
    "print ([fib2(i) for i in range(0,10)])\n",
    "\n",
    "def fib3(N):\n",
    "    a,b=1,1\n",
    "    for i in range(1,N):\n",
    "        a,b=b,a+b\n",
    "        #print(\"for-loop\",a,b)\n",
    "    return b\n",
    "print([fib1(i) for i in range(0,10)])"
   ]
  },
  {
   "cell_type": "code",
   "execution_count": 58,
   "metadata": {},
   "outputs": [
    {
     "name": "stdout",
     "output_type": "stream",
     "text": [
      "2.8 ms ± 119 µs per loop (mean ± std. dev. of 7 runs, 100 loops each)\n",
      "1.16 µs ± 42.2 ns per loop (mean ± std. dev. of 7 runs, 1000000 loops each)\n"
     ]
    }
   ],
   "source": [
    "# check indeed the timing:\n",
    "\n",
    "%timeit fib1(20)\n",
    "%timeit fib2(20)"
   ]
  },
  {
   "cell_type": "markdown",
   "metadata": {},
   "source": [
    "## Iterators\n",
    "\n",
    "Iterators represent streams of values. Because only one value is consumed at a time, they use very little memory. The use of iterators is very helpful for working with data sets too large to fit into RAM."
   ]
  },
  {
   "cell_type": "code",
   "execution_count": 27,
   "metadata": {},
   "outputs": [
    {
     "name": "stdout",
     "output_type": "stream",
     "text": [
      "W\n",
      "h\n",
      "a\n",
      "t\n",
      " \n",
      "T\n",
      "F\n",
      "?\n"
     ]
    }
   ],
   "source": [
    "# Iterators can be created from sequences with the built-in function iter()\n",
    "#xs = [1,2,3,4]\n",
    "xs = \"What TF?\"\n",
    "#xs = (\"banana\", \"is\", \"a\", \"fruit\")\n",
    "x_iter = iter(xs)\n",
    "\n",
    "for i in range(len(xs)):\n",
    "    print(next(x_iter))"
   ]
  },
  {
   "cell_type": "code",
   "execution_count": 32,
   "metadata": {},
   "outputs": [
    {
     "name": "stdout",
     "output_type": "stream",
     "text": [
      "W\n",
      "h\n",
      "a\n",
      "t\n",
      " \n",
      "T\n",
      "F\n",
      "?\n",
      "W\n",
      "h\n",
      "a\n",
      "t\n",
      " \n",
      "T\n",
      "F\n",
      "?\n"
     ]
    }
   ],
   "source": [
    "# Most commonly, iterators are used (automatically) within a for loop\n",
    "# which terminates when it encouters a StopIteration exception\n",
    "\n",
    "x_iter = iter(xs)\n",
    "for x in x_iter:\n",
    "    print (x)\n",
    "\n",
    "#my way to solve it\n",
    "for x in range(len(xs)):\n",
    "    print(xs[x])"
   ]
  },
  {
   "cell_type": "markdown",
   "metadata": {},
   "source": [
    "## More on comprehensions"
   ]
  },
  {
   "cell_type": "code",
   "execution_count": 33,
   "metadata": {},
   "outputs": [
    {
     "name": "stdout",
     "output_type": "stream",
     "text": [
      "<generator object <genexpr> at 0x7f1924607190>\n",
      "[0, 1, 2, 3, 4, 5, 6, 7, 8, 9]\n",
      "{0, 1, 2, 3, 4, 5, 6, 7, 8, 9}\n",
      "{0: 0, 1: 1, 2: 2, 3: 3, 4: 4, 5: 5, 6: 6, 7: 7, 8: 8, 9: 9}\n"
     ]
    }
   ],
   "source": [
    "# A generator expression\n",
    "\n",
    "print ((x for x in range(10)))\n",
    "\n",
    "# A list comprehension\n",
    "\n",
    "print ([x for x in range(10)])\n",
    "\n",
    "# A set comprehension\n",
    "\n",
    "print ({x for x in range(10)})\n",
    "\n",
    "# A dictionary comprehension\n",
    "\n",
    "print ({x: x for x in range(10)})"
   ]
  },
  {
   "cell_type": "markdown",
   "metadata": {},
   "source": [
    "## Useful Modules\n",
    "\n",
    "You may want to have a look at the content of the following modules for further usage of (HO) functions:\n",
    "  - [operator](https://docs.python.org/3/library/operator.html)\n",
    "  - [functools](https://docs.python.org/3/library/functools.html)\n",
    "  - [itertools](https://docs.python.org/3/library/itertools.html)\n",
    "  - [toolz](https://pypi.org/project/toolz/)\n",
    "  - [funcy](https://pypi.org/project/funcy/)"
   ]
  },
  {
   "cell_type": "markdown",
   "metadata": {},
   "source": [
    "## Decorators\n",
    "\n",
    "Decorators are a type of HOF that take a function and return a wrapped function that provides additional useful properties.\n",
    "\n",
    "Examples:\n",
    "\n",
    "  - logging\n",
    "  - profiling\n",
    "  - Just-In-Time (JIT) compilation"
   ]
  },
  {
   "cell_type": "code",
   "execution_count": 56,
   "metadata": {},
   "outputs": [
    {
     "name": "stdout",
     "output_type": "stream",
     "text": [
      "****\n",
      "Thank you for having decorated me\n",
      "****\n"
     ]
    }
   ],
   "source": [
    "#decoriamo una funzione:\n",
    "def decoro(f):\n",
    "    def wrapper():\n",
    "        print(\"****\")\n",
    "        f()\n",
    "        print(\"****\")\n",
    "    return wrapper\n",
    "\n",
    "def ugly(): print(\"Thank you for having decorated me\")\n",
    "\n",
    "decoro(ugly)()"
   ]
  },
  {
   "cell_type": "code",
   "execution_count": 4,
   "metadata": {},
   "outputs": [
    {
     "name": "stdout",
     "output_type": "stream",
     "text": [
      "****\n",
      "I 9\n",
      "****\n"
     ]
    }
   ],
   "source": [
    "def decoro(f):\n",
    "    def wrapper(x):\n",
    "        print(\"****\")\n",
    "        f(x)\n",
    "        print(\"****\")\n",
    "    return wrapper\n",
    "\n",
    "@decoro\n",
    "def alr_dec(x): print(\"I\", x**2)\n",
    "\n",
    "alr_dec(x=3)"
   ]
  },
  {
   "cell_type": "markdown",
   "metadata": {},
   "source": [
    "Python allows you to use decorators in a simpler way with the @ symbol, sometimes called the “pie” syntax"
   ]
  },
  {
   "cell_type": "markdown",
   "metadata": {},
   "source": [
    "# Classes and Objects\n",
    "\n",
    "Old school object-oriented programming is possible and often used in python. Classes are defined similarly to standard object-oriented languages, with similar functionalities.\n",
    "\n",
    "The main python doc [page](https://docs.python.org/3.6/tutorial/classes.html) is worth reading through "
   ]
  },
  {
   "cell_type": "code",
   "execution_count": 14,
   "metadata": {},
   "outputs": [
    {
     "name": "stdout",
     "output_type": "stream",
     "text": [
      "Rudolf was 12\n",
      "Now he's 13\n",
      "Rudolff is 14.083333333333332\n"
     ]
    }
   ],
   "source": [
    "class Pet:\n",
    "    #the \"constructor\" (default method)\n",
    "    def __init__(self, name, age):  #method=self, inizialize the elements of the class\n",
    "        self.name=name\n",
    "        self.age=age\n",
    "    #class functions take the \"self\" parameter !!!\n",
    "    def set_name(self,name):\n",
    "        self.name=name\n",
    "    def convert_age(self,factor):\n",
    "        self.age*=factor\n",
    "\n",
    "buddy=Pet(\"Rudolf\",12)\n",
    "print (buddy.name, \"was\", buddy.age)\n",
    "buddy.age=13\n",
    "print (\"Now he's\",buddy.age)\n",
    "buddy.set_name(\"Rudolf1\"); buddy.convert_age(13/12)\n",
    "print (buddy.name, \"is\", buddy.age)"
   ]
  },
  {
   "cell_type": "code",
   "execution_count": 19,
   "metadata": {},
   "outputs": [
    {
     "name": "stdout",
     "output_type": "stream",
     "text": [
      "Schwarz is 3\n",
      "Rudolf\n",
      "9\n"
     ]
    }
   ],
   "source": [
    "#write a class Pet (inti) then other 2 functions for set != name and convert the age\n",
    "\n",
    "class Pet: #no inheritance\n",
    "    def __init__(self,name,age):\n",
    "        self.name=name; self.age=age\n",
    "        print(name, \"is\", age)\n",
    "    \n",
    "    def set_name(self, nm): self.name=nm; print(self.name)\n",
    "    def convert_age(self, ag): self.age*=ag; print(self.age)\n",
    "\n",
    "a=Pet(\"Schwarz\",3)\n",
    "a.set_name(\"Rudolf\"); a.convert_age(3)"
   ]
  },
  {
   "cell_type": "code",
   "execution_count": 20,
   "metadata": {},
   "outputs": [
    {
     "name": "stdout",
     "output_type": "stream",
     "text": [
      "tobia is 10\n",
      "mammal\n",
      "tobia\n",
      "70\n",
      "film\n"
     ]
    }
   ],
   "source": [
    "class Dog(Pet): #yes intheritance\n",
    "    species = \"mammal\" #new attributes puppy.species\n",
    "    def convert_age(self): #overwrite wrt the prev one\n",
    "        self.age*=7\n",
    "    def set_species(self, species):\n",
    "        self.species = species\n",
    "        \n",
    "puppy=Dog(\"tobia\",10)\n",
    "print(puppy.species)\n",
    "print(puppy.name)\n",
    "\n",
    "#NB: this's the new one\n",
    "puppy.convert_age()\n",
    "print(puppy.age)\n",
    "\n",
    "puppy.set_species(\"film\")\n",
    "print(puppy.species)"
   ]
  }
 ],
 "metadata": {
  "kernelspec": {
   "display_name": "Python 3",
   "language": "python",
   "name": "python3"
  },
  "language_info": {
   "codemirror_mode": {
    "name": "ipython",
    "version": 3
   },
   "file_extension": ".py",
   "mimetype": "text/x-python",
   "name": "python",
   "nbconvert_exporter": "python",
   "pygments_lexer": "ipython3",
   "version": "3.8.3"
  }
 },
 "nbformat": 4,
 "nbformat_minor": 4
}
