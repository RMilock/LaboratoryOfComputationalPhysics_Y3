{
 "cells": [
  {
   "cell_type": "markdown",
   "metadata": {},
   "source": [
    "# Data science is OSEMN\n",
    "\n",
    "This is general not restricted to python. <br>\n",
    "According to a popular model, the elements of data science are\n",
    "\n",
    "* Obtaining data\n",
    "* Scrubbing data\n",
    "* Exploring data <br>\n",
    "The uppers are more the 90% of the job (time and difficult)\n",
    "* Modeling data\n",
    "* iNterpreting data\n",
    "\n",
    "and hence the acronym OSEMN, pronounced as “Awesome”.\n",
    "\n",
    "We will start with the **O**, moving towards the rest later, but first let's have a quick look at what it all boils down to:"
   ]
  },
  {
   "cell_type": "code",
   "execution_count": 1,
   "metadata": {},
   "outputs": [
    {
     "data": {
      "image/png": "[encoded data removed]",
      "text/plain": [
       "<Figure size 432x288 with 1 Axes>"
      ]
     },
     "metadata": {
      "needs_background": "light"
     },
     "output_type": "display_data"
    }
   ],
   "source": [
    "import numpy as np\n",
    "data = np.loadtxt('populations.txt')\n",
    "#print(data.T)\n",
    "year, hares, lynxes, carrots = data.T # trick: columns to variables\n",
    "\n",
    "from matplotlib import pyplot as plt\n",
    "%matplotlib inline\n",
    "\n",
    "plt.axes([0.2, 0.1, 0.5, 0.8]) \n",
    "plt.plot(year, hares, year, lynxes, year, carrots) \n",
    "plt.legend(('Hare', 'Lynx', 'Carrot'), loc=(1.05, 0.5)) \n",
    "plt.show()"
   ]
  },
  {
   "cell_type": "markdown",
   "metadata": {},
   "source": [
    "Somehow by plotting we see the 2 peaks blu and orange...\n",
    "BUT: had been difficult to put togheter these populations so know where all comes from-> 3 first steps are important!\n",
    "\n",
    "By plotting the data a clear (and reasonable) correlations between pray and predator becomes evident. How can it be quantified? Is that statistical significant? What about the correlation between carrots and hares? Is that evident? Is that significant?\n",
    "\n",
    "Comment and the last 2 points: :-D <br>\n",
    "We've a prior (=objective probability) and serch for correlations but the correlations might be spurious. So, rely on scientific method! Data are the truth, but you have to have knowledge.\n",
    "\n",
    "Finding correlations in data is the main goal of data science, though that is not the end of the story: as this precious [site](http://tylervigen.com/spurious-correlations) demonstrates, **correlations is not causation**. \n",
    "\n",
    "(I've been invited to a school of Philosophy of Science to talk about the role of ML in Physics and they even asked me to write a summary of that. You find it [here](https://www.dropbox.com/s/lcjpgsrsoi0iyq3/Fisica_ML.docx), in Italian.. (humanists like that better than English))\n"
   ]
  },
  {
   "cell_type": "markdown",
   "metadata": {},
   "source": [
    "*Exercise*: write an algorithm that determins and quantifies a correlation between two time series. Use as an example the hare-lynx-carrot dataset."
   ]
  },
  {
   "cell_type": "markdown",
   "metadata": {},
   "source": [
    "# Obtaining and processing (remote) data\n",
    "\n",
    "Accessing data is a really serious business. Data can sit on public or on remote machines. In the case of the former, things may be straightforward, whereas in the latter case you need to worry about a few things.\n",
    "\n",
    "In both cases, depending on the size of the dataset, the managment of the dataset can become extremely complicated. We won't deal here with large datasets, which require a whole course per se.., but still care should be put. In particular, it is not wise to keep (and even worse commit) data into a git repository!\n",
    "\n",
    "The suggestion is then to create a directory somewhere and copy the example datasets there. From a terminal:\n",
    "\n",
    "```bash\n",
    "\n",
    "# create a data directory in your home directory\n",
    "mkdir /home/hal20/data/\n",
    "\n",
    "# check the content (it's empty now of course)\n",
    "ls -ltr /home/hal20/data/\n",
    "\n",
    "# in the case you need to move there:\n",
    "cd /home/hal20/data/\n",
    "```"
   ]
  },
  {
   "cell_type": "markdown",
   "metadata": {},
   "source": [
    "### Download data from a server\n",
    "\n",
    "A nice set of interesting datasets can be found on this [server](https://archive.ics.uci.edu/ml/datasets.php) that collects training/test data for machine learning developments. Several of those pertein physical sciences, it is worth browsing through those.\n",
    "\n",
    "You can download any of those, in the following we will consider a dataset from the MAGIC experiment. For that we will the `wget` command"
   ]
  },
  {
   "cell_type": "code",
   "execution_count": 4,
   "metadata": {},
   "outputs": [
    {
     "name": "stdout",
     "output_type": "stream",
     "text": [
      "--2021-01-01 10:18:21--  https://archive.ics.uci.edu/ml/machine-learning-databases/magic/magic04.names\n",
      "Resolving archive.ics.uci.edu (archive.ics.uci.edu)... 128.195.10.252\n",
      "Connecting to archive.ics.uci.edu (archive.ics.uci.edu)|128.195.10.252|:443... connected.\n",
      "HTTP request sent, awaiting response... 200 OK\n",
      "Length: 5400 (5,3K) [application/x-httpd-php]\n",
      "Saving to: ‘/home/hal20/data/magic04.names’\n",
      "\n",
      "magic04.names       100%[===================>]   5,27K  --.-KB/s    in 0,05s   \n",
      "\n",
      "2021-01-01 10:18:23 (99,4 KB/s) - ‘/home/hal20/data/magic04.names’ saved [5400/5400]\n",
      "\n"
     ]
    }
   ],
   "source": [
    "# get the dataset and its description on the proper data directory\n",
    "#!wget https://archive.ics.uci.edu/ml/machine-learning-databases/magic/magic04.data -P /home/hal20/data/\n",
    "!wget https://archive.ics.uci.edu/ml/machine-learning-databases/magic/magic04.names -P /home/hal20/data/    "
   ]
  },
  {
   "cell_type": "code",
   "execution_count": 3,
   "metadata": {},
   "outputs": [
    {
     "name": "stdout",
     "output_type": "stream",
     "text": [
      "1. Title of Database: MAGIC gamma telescope data 2004\n",
      "\n",
      "2. Sources:\n",
      "\n",
      "   (a) Original owner of the database:\n",
      "\n",
      "       R. K. Bock\n",
      "       Major Atmospheric Gamma Imaging Cherenkov Telescope project (MAGIC)\n",
      "       http://wwwmagic.mppmu.mpg.de\n",
      "       rkb@mail.cern.ch\n",
      "\n",
      "   (b) Donor:\n",
      "\n",
      "       P. Savicky\n",
      "       Institute of Computer Science, AS of CR\n",
      "       Czech Republic\n",
      "       savicky@cs.cas.cz\n",
      "\n",
      "   (c) Date received: May 2007\n",
      "\n",
      "3. Past Usage:\n",
      "\n",
      "   (a) Bock, R.K., Chilingarian, A., Gaug, M., Hakl, F., Hengstebeck, T.,\n",
      "       Jirina, M., Klaschka, J., Kotrc, E., Savicky, P., Towers, S.,\n",
      "       Vaicilius, A., Wittek W. (2004).\n",
      "       Methods for multidimensional event classification: a case study\n",
      "       using images from a Cherenkov gamma-ray telescope.\n",
      "       Nucl.Instr.Meth. A, 516, pp. 511-528.\n",
      "\n",
      "   (b) P. Savicky, E. Kotrc.\n",
      "       Experimental Study of Leaf Confidences for Random Forest.\n",
      "       Proceedings of COMPSTAT 2004, In: Computational Statistics.\n",
      "       (Ed.: Antoch J.) - Heidelberg, Physica Verlag 2004, pp. 1767-1774.\n",
      "\n",
      "   (c) J. Dvorak, P. Savicky.\n",
      "       Softening Splits in Decision Trees Using Simulated Annealing.\n",
      "       Proceedings of ICANNGA 2007, Warsaw, (Ed.: Beliczynski et. al),\n",
      "       Part I, LNCS 4431, pp. 721-729.\n",
      "\n",
      "4. Relevant Information:\n",
      "\n",
      "   The data are MC generated (see below) to simulate registration of high energy\n",
      "   gamma particles in a ground-based atmospheric Cherenkov gamma telescope using the\n",
      "   imaging technique. Cherenkov gamma telescope observes high energy gamma rays,\n",
      "   taking advantage of the radiation emitted by charged particles produced\n",
      "   inside the electromagnetic showers initiated by the gammas, and developing in the\n",
      "   atmosphere. This Cherenkov radiation (of visible to UV wavelengths) leaks\n",
      "   through the atmosphere and gets recorded in the detector, allowing reconstruction\n",
      "   of the shower parameters. The available information consists of pulses left by\n",
      "   the incoming Cherenkov photons on the photomultiplier tubes, arranged in a\n",
      "   plane, the camera. Depending on the energy of the primary gamma, a total of\n",
      "   few hundreds to some 10000 Cherenkov photons get collected, in patterns\n",
      "   (called the shower image), allowing to discriminate statistically those\n",
      "   caused by primary gammas (signal) from the images of hadronic showers\n",
      "   initiated by cosmic rays in the upper atmosphere (background).\n",
      "\n",
      "   Typically, the image of a shower after some pre-processing is an elongated\n",
      "   cluster. Its long axis is oriented towards the camera center if the shower axis\n",
      "   is parallel to the telescope's optical axis, i.e. if the telescope axis is\n",
      "   directed towards a point source. A principal component analysis is performed\n",
      "   in the camera plane, which results in a correlation axis and defines an ellipse.\n",
      "   If the depositions were distributed as a bivariate Gaussian, this would be\n",
      "   an equidensity ellipse. The characteristic parameters of this ellipse\n",
      "   (often called Hillas parameters) are among the image parameters that can be\n",
      "   used for discrimination. The energy depositions are typically asymmetric\n",
      "   along the major axis, and this asymmetry can also be used in discrimination.\n",
      "   There are, in addition, further discriminating characteristics, like the\n",
      "   extent of the cluster in the image plane, or the total sum of depositions.\n",
      "\n",
      "   The data set was generated by a Monte Carlo program, Corsika, described in \n",
      "      D. Heck et al., CORSIKA, A Monte Carlo code to simulate extensive air showers,\n",
      "      Forschungszentrum Karlsruhe FZKA 6019 (1998).\n",
      "   The program was run with parameters allowing to observe events with energies down\n",
      "   to below 50 GeV.\n",
      "\n",
      "5. Number of Instances: 19020\n",
      "\n",
      "6. Number of Attributes: 11 (including the class)\n",
      "\n",
      "7. Attribute information:\n",
      "\n",
      "    1.  fLength:  continuous  # major axis of ellipse [mm]\n",
      "    2.  fWidth:   continuous  # minor axis of ellipse [mm] \n",
      "    3.  fSize:    continuous  # 10-log of sum of content of all pixels [in #phot]\n",
      "    4.  fConc:    continuous  # ratio of sum of two highest pixels over fSize  [ratio]\n",
      "    5.  fConc1:   continuous  # ratio of highest pixel over fSize  [ratio]\n",
      "    6.  fAsym:    continuous  # distance from highest pixel to center, projected onto major axis [mm]\n",
      "    7.  fM3Long:  continuous  # 3rd root of third moment along major axis  [mm] \n",
      "    8.  fM3Trans: continuous  # 3rd root of third moment along minor axis  [mm]\n",
      "    9.  fAlpha:   continuous  # angle of major axis with vector to origin [deg]\n",
      "   10.  fDist:    continuous  # distance from origin to center of ellipse [mm]\n",
      "   11.  class:    g,h         # gamma (signal), hadron (background)\n",
      "\n",
      "8. Missing Attribute Values: None\n",
      "\n",
      "9. Class Distribution:\n",
      "\n",
      "   g = gamma (signal):     12332\n",
      "   h = hadron (background): 6688\n",
      "\n",
      "   For technical reasons, the number of h events is underestimated.\n",
      "   In the real data, the h class represents the majority of the events.\n",
      "\n",
      "   The simple classification accuracy is not meaningful for this data, since\n",
      "   classifying a background event as signal is worse than classifying a signal\n",
      "   event as background. For comparison of different classifiers an ROC curve\n",
      "   has to be used. The relevant points on this curve are those, where the\n",
      "   probability of accepting a background event as signal is below one of the\n",
      "   following thresholds: 0.01, 0.02, 0.05, 0.1, 0.2 depending on the required\n",
      "   quality of the sample of the accepted events for different experiments.\n",
      "\n"
     ]
    }
   ],
   "source": [
    "# print the description. This can (and better) be done from a terminal\n",
    "!cat /home/hal20/data/magic04.names #@7 point: check what's the format of variables"
   ]
  },
  {
   "cell_type": "markdown",
   "metadata": {},
   "source": [
    "It is possible to download and load remote files via their url's directly from within python (and thus on a jupyter session). This is a rather powerful tool as it allows http communications, IO streaming and so on.\n",
    "\n",
    "Care should be put as the dataset is stored in memory."
   ]
  },
  {
   "cell_type": "code",
   "execution_count": 4,
   "metadata": {},
   "outputs": [
    {
     "name": "stdout",
     "output_type": "stream",
     "text": [
      "111\n"
     ]
    }
   ],
   "source": [
    "# url lib -> use python to download things\n",
    "import urllib.request\n",
    "n_rec=0;\n",
    "url ='https://archive.ics.uci.edu/ml/machine-learning-databases/magic/magic04.names'\n",
    "with urllib.request.urlopen(url) as data_file:\n",
    "    #print (data_file.read(300))\n",
    "    for line in data_file:\n",
    "        n_rec+=1\n",
    "print(n_rec)"
   ]
  },
  {
   "cell_type": "markdown",
   "metadata": {},
   "source": [
    "###  Copy data from a remote machine\n",
    "\n",
    "Often datasets are not available on websites but rather they are sitting on some remote machine. Several tools are there that can allow you to get hold off remote data, even from within python (e.g. [paramiko](https://www.paramiko.org/)), but best in this case is to get a local copy. E.g. from a terminal:\n",
    "\n",
    "```bash\n",
    "scp guest104@gatep.fisica.unipd.it:/home/hal20/data/data_000637.* /home/hal20/data/\n",
    "```\n",
    "That is, user guest104 wants to accest the data and copy them to /home/hal20/data\n",
    "\n",
    "by issuing that command you are immediately exposed to the most relevant problem in obtaining the data: permissions/authorization.\n",
    "\n",
    "Indeed that will not work (as you don't have an account on that machine and I'd be put into jail if I gave you the password), still you'll need that file later, so \"wget\" it:\n"
   ]
  },
  {
   "cell_type": "code",
   "execution_count": 5,
   "metadata": {
    "collapsed": true,
    "jupyter": {
     "outputs_hidden": true
    }
   },
   "outputs": [
    {
     "name": "stdout",
     "output_type": "stream",
     "text": [
      "--2020-11-09 08:32:51--  https://www.dropbox.com/s/69xe1d5f19nvtw3/data_000637.dat\n",
      "Resolving www.dropbox.com (www.dropbox.com)... 162.125.69.1, 2620:100:6025:1::a27d:4501\n",
      "Connecting to www.dropbox.com (www.dropbox.com)|162.125.69.1|:443... connected.\n",
      "HTTP request sent, awaiting response... 301 Moved Permanently\n",
      "Location: /s/raw/69xe1d5f19nvtw3/data_000637.dat [following]\n",
      "--2020-11-09 08:32:52--  https://www.dropbox.com/s/raw/69xe1d5f19nvtw3/data_000637.dat\n",
      "Reusing existing connection to www.dropbox.com:443.\n",
      "HTTP request sent, awaiting response... 302 Found\n",
      "Location: https://ucc5d85b7814ff0a1b11d415334f.dl.dropboxusercontent.com/cd/0/inline/BC0E4hLHDoixUC7kF6Vvvj7mKJLqmihQjG8UN6rSAgHbU7ooXMYFQBpP7fQ-GTC_CHnOrCzHUotjih5iki29RXR9Hl7TqiCMTS7uUbQJi0T0FM7nTBCUEWq2_40goWPnhLc/file# [following]\n",
      "--2020-11-09 08:32:52--  https://ucc5d85b7814ff0a1b11d415334f.dl.dropboxusercontent.com/cd/0/inline/BC0E4hLHDoixUC7kF6Vvvj7mKJLqmihQjG8UN6rSAgHbU7ooXMYFQBpP7fQ-GTC_CHnOrCzHUotjih5iki29RXR9Hl7TqiCMTS7uUbQJi0T0FM7nTBCUEWq2_40goWPnhLc/file\n",
      "Resolving ucc5d85b7814ff0a1b11d415334f.dl.dropboxusercontent.com (ucc5d85b7814ff0a1b11d415334f.dl.dropboxusercontent.com)... 162.125.69.15, 2620:100:6025:15::a27d:450f\n",
      "Connecting to ucc5d85b7814ff0a1b11d415334f.dl.dropboxusercontent.com (ucc5d85b7814ff0a1b11d415334f.dl.dropboxusercontent.com)|162.125.69.15|:443... connected.\n",
      "HTTP request sent, awaiting response... 302 Found\n",
      "Location: /cd/0/inline2/BC0lLtEryRRRGzZhjzyge6qD8KQxobrfGSQPhiq6J_7d_sTBDb5gD5nIiUM71eonHY6cozLJoxNjfQKm1I5r0b5QK7icHXEgxB05jxT-5pyBd3rlBynVWXz1urBPeAqyJa8Bo_uPPoQfQzrkAWJtsSTNjjV0gFV26QCWi4umbtvcCSUrfUFm6qxQVvdjfu_0FfBa6ED5KtL41xEd2u7K7Wn9A9vSyzdUSFWCp4pU6eo_5DOhe_uLSMRTEdR9USM3Cr4ml7mvl5wTlE_ABPlqojXylPHrYytU763CpCtecYcG_oeZQzVp2Yl37DCPxba-qBcgPLRnzo5kZv2n3oKdnFlZ9q3JWFAMbe4O6q8Df9upxA/file [following]\n",
      "--2020-11-09 08:32:53--  https://ucc5d85b7814ff0a1b11d415334f.dl.dropboxusercontent.com/cd/0/inline2/BC0lLtEryRRRGzZhjzyge6qD8KQxobrfGSQPhiq6J_7d_sTBDb5gD5nIiUM71eonHY6cozLJoxNjfQKm1I5r0b5QK7icHXEgxB05jxT-5pyBd3rlBynVWXz1urBPeAqyJa8Bo_uPPoQfQzrkAWJtsSTNjjV0gFV26QCWi4umbtvcCSUrfUFm6qxQVvdjfu_0FfBa6ED5KtL41xEd2u7K7Wn9A9vSyzdUSFWCp4pU6eo_5DOhe_uLSMRTEdR9USM3Cr4ml7mvl5wTlE_ABPlqojXylPHrYytU763CpCtecYcG_oeZQzVp2Yl37DCPxba-qBcgPLRnzo5kZv2n3oKdnFlZ9q3JWFAMbe4O6q8Df9upxA/file\n",
      "Reusing existing connection to ucc5d85b7814ff0a1b11d415334f.dl.dropboxusercontent.com:443.\n",
      "HTTP request sent, awaiting response... 200 OK\n",
      "Length: 10485760 (10M) [application/x-ns-proxy-autoconfig]\n",
      "Saving to: ‘/home/hal20/data/data_000637.dat’\n",
      "\n",
      "data_000637.dat     100%[===================>]  10,00M  4,59MB/s    in 2,2s    \n",
      "\n",
      "2020-11-09 08:32:56 (4,59 MB/s) - ‘/home/hal20/data/data_000637.dat’ saved [10485760/10485760]\n",
      "\n",
      "--2020-11-09 08:32:56--  https://www.dropbox.com/s/xvjzaxzz3ysphme/data_000637.txt\n",
      "Resolving www.dropbox.com (www.dropbox.com)... 162.125.69.1, 2620:100:6025:1::a27d:4501\n",
      "Connecting to www.dropbox.com (www.dropbox.com)|162.125.69.1|:443... connected.\n",
      "HTTP request sent, awaiting response... 301 Moved Permanently\n",
      "Location: /s/raw/xvjzaxzz3ysphme/data_000637.txt [following]\n",
      "--2020-11-09 08:32:56--  https://www.dropbox.com/s/raw/xvjzaxzz3ysphme/data_000637.txt\n",
      "Reusing existing connection to www.dropbox.com:443.\n",
      "HTTP request sent, awaiting response... 302 Found\n",
      "Location: https://uc5abac6769330c260cff539d612.dl.dropboxusercontent.com/cd/0/inline/BC2VPAVQ9y2Au--ytFMz2ux3EFvIwfsM3i-C9tOW-WJtR-sv33dZeAsA_JfYYxqLroWpU6zUwpCvYCmP7l73F6gkrY-VSDD1TxaOVVMDfHnNF0r-v9WkXu4FcdqypDz8a20/file# [following]\n",
      "--2020-11-09 08:32:57--  https://uc5abac6769330c260cff539d612.dl.dropboxusercontent.com/cd/0/inline/BC2VPAVQ9y2Au--ytFMz2ux3EFvIwfsM3i-C9tOW-WJtR-sv33dZeAsA_JfYYxqLroWpU6zUwpCvYCmP7l73F6gkrY-VSDD1TxaOVVMDfHnNF0r-v9WkXu4FcdqypDz8a20/file\n",
      "Resolving uc5abac6769330c260cff539d612.dl.dropboxusercontent.com (uc5abac6769330c260cff539d612.dl.dropboxusercontent.com)... 162.125.69.15, 2620:100:6025:15::a27d:450f\n",
      "Connecting to uc5abac6769330c260cff539d612.dl.dropboxusercontent.com (uc5abac6769330c260cff539d612.dl.dropboxusercontent.com)|162.125.69.15|:443... connected.\n",
      "HTTP request sent, awaiting response... 200 OK\n",
      "Length: 33179236 (32M) [text/plain]\n",
      "Saving to: ‘/home/hal20/data/data_000637.txt’\n",
      "\n",
      "data_000637.txt     100%[===================>]  31,64M  5,09MB/s    in 6,3s    \n",
      "\n",
      "2020-11-09 08:33:04 (5,00 MB/s) - ‘/home/hal20/data/data_000637.txt’ saved [33179236/33179236]\n",
      "\n"
     ]
    }
   ],
   "source": [
    "!wget https://www.dropbox.com/s/69xe1d5f19nvtw3/data_000637.dat -P /home/hal20/data/\n",
    "\n",
    "# copy the interpreted version as well\n",
    "!wget https://www.dropbox.com/s/xvjzaxzz3ysphme/data_000637.txt -P /home/hal20/data/"
   ]
  },
  {
   "cell_type": "markdown",
   "metadata": {},
   "source": [
    "Often there's a firewell for a remote - know of how the server behave (set up tunnel, open things,...) + permission to avoid attacks\n",
    "\n",
    "Secondily (essentially a further consequence of the same issue), the remote machine itself may have accessibility restrictions, e.g. being behind a firewall. In that case you may need to use a tunnel:\n",
    "\n",
    "``` bash\n",
    "ssh -L 1234:<address of R known to G>:22 <user at G>@<address of G> \n",
    "\n",
    "scp -P 1234 <user at R>@127.0.0.1:/path/to/file file-name-to-be-copied\n",
    "```\n",
    "\n",
    "In summary, just getting the data is a complicated business."
   ]
  },
  {
   "cell_type": "markdown",
   "metadata": {},
   "source": [
    "## Data Formats\n",
    "\n",
    "datasets can be stored in a gazillion different ways, often they have formats which are application dependent, even though more and more standards are being established. Python have \"readers\" for most of the formats, another reason for being the optimal programming language for data analysis."
   ]
  },
  {
   "cell_type": "markdown",
   "metadata": {},
   "source": [
    "### Text files \n",
    "\n",
    "Plain text files are commonly used for \"readibility\", at the price of a very poor storing efficiency due to their low entropy. [UTF-8](https://en.wikipedia.org/wiki/UTF-8) is the most common encoding: large datset aren't in .txt.\n",
    "\n",
    "What variables means it's possible only with pre info for each variable.\n",
    "The values has to be sep with the same character\n",
    "\n",
    "Reading (and writing) text files in python is straightforward:"
   ]
  },
  {
   "cell_type": "code",
   "execution_count": 313,
   "metadata": {
    "collapsed": true,
    "jupyter": {
     "outputs_hidden": true
    }
   },
   "outputs": [
    {
     "name": "stdout",
     "output_type": "stream",
     "text": [
      "'fLength','fWidth','fSize','fConc','fConc1','fAsym','fM3Long','fM3Trans','fAlpha','fDist',category\n",
      "\n",
      "'fLength'\n",
      "'fWidth'\n",
      "'fSize'\n",
      "'fConc'\n",
      "'fConc1'\n",
      "'fAsym'\n",
      "'fM3Long'\n",
      "'fM3Trans'\n",
      "'fAlpha'\n",
      "'fDist'\n",
      "category\n",
      "\n",
      "28.7967,16.0021,2.6449,0.3918,0.1982,27.7004,22.011,-8.2027,40.092,81.8828,g\n",
      "\n",
      "28.7967\n",
      "16.0021\n",
      "2.6449\n",
      "0.3918\n",
      "0.1982\n",
      "27.7004\n",
      "22.011\n",
      "-8.2027\n",
      "40.092\n",
      "81.8828\n",
      "g\n",
      "\n",
      "31.6036,11.7235,2.5185,0.5303,0.3773,26.2722,23.8238,-9.9574,6.3609,205.261,g\n",
      "\n",
      "31.6036\n",
      "11.7235\n",
      "2.5185\n",
      "0.5303\n",
      "0.3773\n",
      "26.2722\n",
      "23.8238\n",
      "-9.9574\n",
      "6.3609\n",
      "205.261\n",
      "g\n",
      "\n",
      "162.052,136.031,4.0612,0.0374,0.0187,116.741,-64.858,-45.216,76.96,256.788,g\n",
      "\n",
      "162.052\n",
      "136.031\n",
      "4.0612\n",
      "0.0374\n",
      "0.0187\n",
      "116.741\n",
      "-64.858\n",
      "-45.216\n",
      "76.96\n",
      "256.788\n",
      "g\n",
      "\n",
      "23.8172,9.5728,2.3385,0.6147,0.3922,27.2107,-6.4633,-7.1513,10.449,116.737,g\n",
      "\n",
      "23.8172\n",
      "9.5728\n",
      "2.3385\n",
      "0.6147\n",
      "0.3922\n",
      "27.2107\n",
      "-6.4633\n",
      "-7.1513\n",
      "10.449\n",
      "116.737\n",
      "g\n",
      "\n",
      "75.1362,30.9205,3.1611,0.3168,0.1832,-5.5277,28.5525,21.8393,4.648,356.462,g\n",
      "\n",
      "75.1362\n",
      "30.9205\n",
      "3.1611\n",
      "0.3168\n",
      "0.1832\n",
      "-5.5277\n",
      "28.5525\n",
      "21.8393\n",
      "4.648\n",
      "356.462\n",
      "g\n",
      "\n"
     ]
    }
   ],
   "source": [
    "global file_name\n",
    "file_name = \"/home/hal20/data/magic04.data\"\n",
    "# mode can be specified for writing, reading or both\n",
    "with open(file_name, mode='r') as f: #with \"r\" not able to modify\n",
    "    # print (f.read()) #print-out the whole file\n",
    "    k=0;\n",
    "    for line in f: ## print line by line\n",
    "        k+=1\n",
    "        print (line)\n",
    "        ### each line is a string, you need to split it yourself\n",
    "        for c in line.split(\",\"): print(c) # check the functionalities of the split() method \n",
    "        if k>5: break\n",
    "        # for c in line: print c #prints only the letters\n",
    "        \n",
    "#NB: In ml you can train the model w/o know what's the prior just having a label@the end"
   ]
  },
  {
   "cell_type": "markdown",
   "metadata": {},
   "source": [
    "### CSV files\n",
    "\n",
    "If you are lucky text files are already framed into a defined structured, in a \"table-like\" manner. These files are colled \"comma separated values\" (csv), even though the separator may well not be the \",\" symbol.\n",
    "Python have package to deal with that:"
   ]
  },
  {
   "cell_type": "code",
   "execution_count": 57,
   "metadata": {},
   "outputs": [
    {
     "name": "stdout",
     "output_type": "stream",
     "text": [
      "['28.7967', '16.0021', '2.6449', '0.3918', '0.1982', '27.7004', '22.011', '-8.2027', '40.092', '81.8828', 'g']\n",
      "28.7967 16.0021 2.6449 0.3918 0.1982 27.7004 22.011 -8.2027 40.092 81.8828\n",
      "g\n"
     ]
    }
   ],
   "source": [
    "import csv\n",
    "file_name='/home/hal20/data/magic04.data'\n",
    "with open(file_name) as data_file:\n",
    "    for line in csv.reader(data_file, delimiter=','): # the delimiter is often guessed by the reader\n",
    "        # again note that elements of each line are treated as strings\n",
    "        print(line)\n",
    "        #convert them into numbers:\n",
    "        fLength,fWidth,fSize,\\\n",
    "        fConc,fConc1,fAsym,\\\n",
    "        fM3Long,fM3Trans,fAlpha,fDist = map(float,line[:-1]) #cast every el in float expect the last one\n",
    "        category = line[-1]\n",
    "        print (fLength,fWidth,fSize,fConc,fConc1,fAsym,fM3Long,fM3Trans,fAlpha,fDist)\n",
    "        print (category)\n",
    "        break"
   ]
  },
  {
   "cell_type": "markdown",
   "metadata": {},
   "source": [
    "More often than not, csv files have comments (e.g. starting with '#'), which cannot be interpreted by the reader. Tricks like:\n",
    "\n",
    "```python\n",
    "csv.reader(row for row in f if not row.startswith('#'))\n",
    "```\n",
    "\n",
    "may be useful"
   ]
  },
  {
   "cell_type": "markdown",
   "metadata": {},
   "source": [
    "## Binary (hexadecimal) files: storage\n",
    "\n",
    "The output of sensors often is stored as hexadecimal files. Information is packed in a well defined format (similarly to how floating point numbers are formatted).\n",
    "To read and process hexadecimal files in python you need to use the \"b\" option of `open` and progress along the file at step of defined lenght (depending on the size of the words information is packed into)\n",
    "\n",
    "The binary is extremely difficult to read but there're bitwise operations (mask, shift)\n",
    "\n",
    "There are several tool to display and edit hex/bin files, e.g. this [one](https://hexed.it/)\n",
    "\n",
    "The following is an example from data collected from an FPGA implementing a TDC. Relevant infomation are the coordinates of the TDC channels and their time measurements.\n",
    "\n",
    "In fpga, every meas is org in 64 bits with scheme (every bit has meaning).\n",
    "We know to know the device and the key to read it"
   ]
  },
  {
   "cell_type": "code",
   "execution_count": 302,
   "metadata": {},
   "outputs": [
    {
     "name": "stdout",
     "output_type": "stream",
     "text": [
      "HEAD,FPGA,TDC_CHANNEL,ORB_CNT,BX,TDC_MEAS, \n",
      "1,0,122,3869200167,2374,27\n",
      "1,0,123,3869200167,2374,28\n",
      "1,0,62,3869200167,2553,29\n"
     ]
    }
   ],
   "source": [
    "#create a txt file\n",
    "import struct, time\n",
    "file_name='/home/hal20/data/data_000637.dat'\n",
    "\n",
    "with open(file_name.replace(\".dat\",\"_from_ipynb.txt\"),\"w\") as w:\n",
    "    w.write(\"\")\n",
    "\n",
    "with  open(file_name,'rb') as file:\n",
    "    file_content=file.read()\n",
    "    word_counter = 0\n",
    "    word_size = 8 #size of the word in bytes\n",
    "    for i in range(0,len(file_content), word_size):\n",
    "        word_counter+=1\n",
    "        if word_counter>3: break\n",
    "        #time.sleep(0.1)\n",
    "        thisInt = struct.unpack('<q', file_content[i:i+word_size])[0]\n",
    "        #print(thisInt)\n",
    "        head = (thisInt >> 62) & 0x3\n",
    "        if head == 1:\n",
    "            fpga     = (thisInt >> 58) & 0xF #decode/unpack: shift 64-word by 58 & applying amsk 0xF\n",
    "            tdc_chan = (thisInt >> 49) & 0x1FF\n",
    "            orb_cnt  = (thisInt >> 17) & 0xFFFFFFFF\n",
    "            bx       = (thisInt >> 5 ) & 0xFFF\n",
    "            tdc_meas = (thisInt >> 0 ) & 0x1F\n",
    "            if i==0 : print ('{0},{1},{2},{3},{4},{5}, '.format('HEAD', 'FPGA', 'TDC_CHANNEL', 'ORB_CNT', 'BX', 'TDC_MEAS'))\n",
    "            print ('{0},{1},{2},{3},{4},{5}'.format(head, fpga, tdc_chan, orb_cnt, bx, tdc_meas))\n",
    "            with open(file_name.replace(\".dat\",\"_from_ipynb.txt\"),\"a\") as w:\n",
    "                if i==0 : \n",
    "                    w.write ('{0},{1},{2},{3},{4},{5}, '.format('HEAD', 'FPGA', 'TDC_CHANNEL', 'ORB_CNT', 'BX', 'TDC_MEAS'))\n",
    "                w.write('{0},{1},{2},{3},{4},{5}'.format(head, fpga, tdc_chan, orb_cnt, bx, tdc_meas))\n",
    "        else:\n",
    "            print ('ERROR! head =', head)"
   ]
  },
  {
   "cell_type": "markdown",
   "metadata": {},
   "source": [
    "### JSON files\n",
    "\n",
    "JSON is JavaScript Object Notation - a format used widely for web-based resource sharing. It is very similar in structure to a Python nested dictionary. Here is an example from http://json.org/example\n",
    "\n",
    "with %%file... createing  a .json and writing all what's inside the cell \n",
    "// similar to web pages or nested structure\n"
   ]
  },
  {
   "cell_type": "code",
   "execution_count": 122,
   "metadata": {},
   "outputs": [
    {
     "name": "stdout",
     "output_type": "stream",
     "text": [
      "Overwriting example.json\n"
     ]
    }
   ],
   "source": [
    "%%file example.json  \n",
    "{\n",
    "    \"glossary\": {\n",
    "        \"title\": \"example glossary\",\n",
    "            \"GlossDiv\": {\n",
    "            \"title\": \"S\",\n",
    "                    \"GlossList\": {\n",
    "                \"GlossEntry\": {\n",
    "                    \"ID\": \"SGML\",\n",
    "                                    \"SortAs\": \"SGML\",\n",
    "                                    \"GlossTerm\": \"Standard Generalized Markup Language\",\n",
    "                                    \"Acronym\": \"SGML\",\n",
    "                                    \"Abbrev\": \"ISO 8879:1986\",\n",
    "                                    \"GlossDef\": {\n",
    "                        \"para\": \"A meta-markup language, used to create markup languages such as DocBook.\",\n",
    "                                            \"GlossSeeAlso\": [\"GML\", \"XML\"]\n",
    "                    },\n",
    "                                    \"GlossSee\": \"markup modified\"\n",
    "                }\n",
    "            }\n",
    "        }\n",
    "    }\n",
    "}"
   ]
  },
  {
   "cell_type": "code",
   "execution_count": null,
   "metadata": {},
   "outputs": [],
   "source": [
    "!cat example.json"
   ]
  },
  {
   "cell_type": "markdown",
   "metadata": {},
   "source": [
    "Add @ the end of the prev cell: #This will be anyway written"
   ]
  },
  {
   "cell_type": "code",
   "execution_count": 136,
   "metadata": {},
   "outputs": [],
   "source": [
    "import json\n",
    "def writeToJSONFile(path, fileName, data):\n",
    "    filePathNameWExt = './' + path + '/' + fileName + '.json'\n",
    "    with open(filePathNameWExt, 'w') as fp:\n",
    "        json.dump(data, fp)\n",
    "\n",
    "\n",
    "# Example\n",
    "data = {\"Riccardo\":1}\n",
    "#data['key'] = 'value'\n",
    "\n",
    "writeToJSONFile('./','my',data)"
   ]
  },
  {
   "cell_type": "code",
   "execution_count": 137,
   "metadata": {},
   "outputs": [
    {
     "name": "stdout",
     "output_type": "stream",
     "text": [
      "{'Riccardo': 1}\n"
     ]
    }
   ],
   "source": [
    "import json\n",
    "data = json.load(open('my.json'))\n",
    "print (data)"
   ]
  },
  {
   "cell_type": "code",
   "execution_count": 124,
   "metadata": {},
   "outputs": [
    {
     "data": {
      "text/plain": [
       "{'GlossEntry': {'ID': 'SGML',\n",
       "  'SortAs': 'SGML',\n",
       "  'GlossTerm': 'Standard Generalized Markup Language',\n",
       "  'Acronym': 'SGML',\n",
       "  'Abbrev': 'ISO 8879:1986',\n",
       "  'GlossDef': {'para': 'A meta-markup language, used to create markup languages such as DocBook.',\n",
       "   'GlossSeeAlso': ['GML', 'XML']},\n",
       "  'GlossSee': 'markup modified'}}"
      ]
     },
     "execution_count": 124,
     "metadata": {},
     "output_type": "execute_result"
    }
   ],
   "source": [
    "# and can be parsed using standard key lookups\n",
    "data['glossary']['GlossDiv']['GlossList']"
   ]
  },
  {
   "cell_type": "markdown",
   "metadata": {},
   "source": [
    "### HDF5\n",
    "\n",
    "HDF5 is a hierarchical format often used to store complex scientific data. For instance, Matlab now saves its data to HDF5. It is particularly useful to store complex hierarchical data sets with associated metadata, for example, the results of a computer simulation experiment.\n",
    "Allows to deal with complex and nested data w/ connection with meta data\n",
    "\n",
    "\n",
    "The main concepts associated with HDF5 are\n",
    "\n",
    "* file: container for hierachical data - serves as ‘root’ for tree\n",
    "* group: a node for a tree\n",
    "* dataset: array for numeric data - can be huge\n",
    "* attribute: small pieces of metadata that provide additional context\n",
    "\n",
    "Now let's create a dummy dataset"
   ]
  },
  {
   "cell_type": "code",
   "execution_count": 152,
   "metadata": {},
   "outputs": [
    {
     "name": "stdout",
     "output_type": "stream",
     "text": [
      "(1000, 20) (1000, 200)\n"
     ]
    }
   ],
   "source": [
    "import numpy as np\n",
    "import h5py #create datasets\n",
    "\n",
    "#Now mock up some simple dummy data to save to our file.\n",
    "d1 = np.random.randint(-1,1,size = (1000,20))\n",
    "d2 = np.random.random(size = (1000,200))\n",
    "\n",
    "print (d1.shape, d2.shape) #2x2 arrays\n",
    "\n",
    "# open, create dataset, close\n",
    "hf = h5py.File('/home/hal20/data.h5', 'w')\n",
    "hf.create_dataset('dataset_1', data=d1)\n",
    "hf.create_dataset('dataset_2', data=d2)\n",
    "hf.close()"
   ]
  },
  {
   "cell_type": "markdown",
   "metadata": {},
   "source": [
    "and read it"
   ]
  },
  {
   "cell_type": "code",
   "execution_count": 151,
   "metadata": {},
   "outputs": [
    {
     "name": "stdout",
     "output_type": "stream",
     "text": [
      "<KeysViewHDF5 ['dataset_1', 'dataset_2']>\n",
      "<HDF5 dataset \"dataset_1\": shape (1000, 20), type \"<i8\">\n",
      "[[-1 -1  0 ...  0  0 -1]\n",
      " [-1 -1 -1 ... -1  0 -1]\n",
      " [ 0 -1 -1 ... -1  0  0]\n",
      " ...\n",
      " [-1  0 -1 ...  0 -1  0]\n",
      " [ 0  0 -1 ...  0 -1  0]\n",
      " [ 0 -1 -1 ...  0  0 -1]]\n"
     ]
    }
   ],
   "source": [
    "hf = h5py.File('/home/hal20/data.h5', 'r')\n",
    "\n",
    "print (hf.keys())\n",
    "\n",
    "n1 = hf.get('dataset_1')\n",
    "print (n1)\n",
    "\n",
    "n1 = np.array(n1)\n",
    "print (n1)\n",
    "hf.close()"
   ]
  },
  {
   "cell_type": "markdown",
   "metadata": {},
   "source": [
    "here is another example"
   ]
  },
  {
   "cell_type": "code",
   "execution_count": 159,
   "metadata": {},
   "outputs": [],
   "source": [
    "import h5py\n",
    "import numpy as np\n",
    "import os\n",
    "\n",
    "# creating a HDF5 file\n",
    "#import datetime\n",
    "\n",
    "if not os.path.exists('example.hdf5'):\n",
    "#allows nested: proj, group, dataset\n",
    "    with h5py.File('example.hdf5') as f:\n",
    "        project = f.create_group('project')\n",
    "        expt1 = project.create_group('expt1')\n",
    "        expt2 = project.create_group('expt2')\n",
    "        expt1.create_dataset('counts', (100,), dtype='i')\n",
    "        expt2.create_dataset('values', (1000,), dtype='f')\n",
    "\n",
    "        expt1['counts'][:] = range(100)\n",
    "        expt2['values'][:] = np.random.random(1000)"
   ]
  },
  {
   "cell_type": "code",
   "execution_count": 160,
   "metadata": {},
   "outputs": [
    {
     "name": "stdout",
     "output_type": "stream",
     "text": [
      "[0 1 2 3 4 5 6 7 8 9]\n",
      "[0.61666495 0.7809852  0.28015465 0.2172407  0.76258    0.44858155\n",
      " 0.6501043  0.29989335 0.8258192  0.3867735 ]\n"
     ]
    }
   ],
   "source": [
    "with h5py.File('example.hdf5',\"r\") as f: #pass \"r\" to remove warnings\n",
    "    project = f['project']\n",
    "    print (project['expt1']['counts'][:10])\n",
    "    print (project['expt2']['values'][:10])"
   ]
  },
  {
   "cell_type": "markdown",
   "metadata": {},
   "source": [
    "### Pandas\n",
    "\n",
    "the most convenient tool to read and process formatted dataset is however Pandas. In the following a couple of examples. Pandas will be the main subject of one of the next classes\n",
    "Pandas isn't a data format \"per se\" but allows other dataformat creating in memory a Panda's dataframe. Limitation every rows must be the same. \n",
    "Panda~Excel; use it for last project"
   ]
  },
  {
   "cell_type": "code",
   "execution_count": 315,
   "metadata": {},
   "outputs": [
    {
     "data": {
      "text/html": [
       "<div>\n",
       "<style scoped>\n",
       "    .dataframe tbody tr th:only-of-type {\n",
       "        vertical-align: middle;\n",
       "    }\n",
       "\n",
       "    .dataframe tbody tr th {\n",
       "        vertical-align: top;\n",
       "    }\n",
       "\n",
       "    .dataframe thead th {\n",
       "        text-align: right;\n",
       "    }\n",
       "</style>\n",
       "<table border=\"1\" class=\"dataframe\">\n",
       "  <thead>\n",
       "    <tr style=\"text-align: right;\">\n",
       "      <th></th>\n",
       "      <th>HEAD</th>\n",
       "      <th>FPGA</th>\n",
       "      <th>TDC_CHANNEL</th>\n",
       "      <th>ORBIT_CNT</th>\n",
       "      <th>BX_COUNTER</th>\n",
       "      <th>TDC_MEAS</th>\n",
       "    </tr>\n",
       "  </thead>\n",
       "  <tbody>\n",
       "    <tr>\n",
       "      <th>0</th>\n",
       "      <td>1</td>\n",
       "      <td>0</td>\n",
       "      <td>123</td>\n",
       "      <td>3869200167</td>\n",
       "      <td>2374</td>\n",
       "      <td>26</td>\n",
       "    </tr>\n",
       "    <tr>\n",
       "      <th>1</th>\n",
       "      <td>1</td>\n",
       "      <td>0</td>\n",
       "      <td>124</td>\n",
       "      <td>3869200167</td>\n",
       "      <td>2374</td>\n",
       "      <td>27</td>\n",
       "    </tr>\n",
       "    <tr>\n",
       "      <th>2</th>\n",
       "      <td>1</td>\n",
       "      <td>0</td>\n",
       "      <td>63</td>\n",
       "      <td>3869200167</td>\n",
       "      <td>2553</td>\n",
       "      <td>28</td>\n",
       "    </tr>\n",
       "    <tr>\n",
       "      <th>3</th>\n",
       "      <td>1</td>\n",
       "      <td>0</td>\n",
       "      <td>64</td>\n",
       "      <td>3869200167</td>\n",
       "      <td>2558</td>\n",
       "      <td>19</td>\n",
       "    </tr>\n",
       "    <tr>\n",
       "      <th>4</th>\n",
       "      <td>1</td>\n",
       "      <td>0</td>\n",
       "      <td>64</td>\n",
       "      <td>3869200167</td>\n",
       "      <td>2760</td>\n",
       "      <td>25</td>\n",
       "    </tr>\n",
       "    <tr>\n",
       "      <th>5</th>\n",
       "      <td>1</td>\n",
       "      <td>0</td>\n",
       "      <td>63</td>\n",
       "      <td>3869200167</td>\n",
       "      <td>2762</td>\n",
       "      <td>4</td>\n",
       "    </tr>\n",
       "    <tr>\n",
       "      <th>6</th>\n",
       "      <td>1</td>\n",
       "      <td>0</td>\n",
       "      <td>61</td>\n",
       "      <td>3869200167</td>\n",
       "      <td>2772</td>\n",
       "      <td>14</td>\n",
       "    </tr>\n",
       "    <tr>\n",
       "      <th>7</th>\n",
       "      <td>1</td>\n",
       "      <td>0</td>\n",
       "      <td>139</td>\n",
       "      <td>3869200167</td>\n",
       "      <td>2776</td>\n",
       "      <td>0</td>\n",
       "    </tr>\n",
       "    <tr>\n",
       "      <th>8</th>\n",
       "      <td>1</td>\n",
       "      <td>0</td>\n",
       "      <td>62</td>\n",
       "      <td>3869200167</td>\n",
       "      <td>2774</td>\n",
       "      <td>21</td>\n",
       "    </tr>\n",
       "  </tbody>\n",
       "</table>\n",
       "</div>"
      ],
      "text/plain": [
       "   HEAD  FPGA  TDC_CHANNEL   ORBIT_CNT  BX_COUNTER  TDC_MEAS\n",
       "0     1     0          123  3869200167        2374        26\n",
       "1     1     0          124  3869200167        2374        27\n",
       "2     1     0           63  3869200167        2553        28\n",
       "3     1     0           64  3869200167        2558        19\n",
       "4     1     0           64  3869200167        2760        25\n",
       "5     1     0           63  3869200167        2762         4\n",
       "6     1     0           61  3869200167        2772        14\n",
       "7     1     0          139  3869200167        2776         0\n",
       "8     1     0           62  3869200167        2774        21"
      ]
     },
     "execution_count": 315,
     "metadata": {},
     "output_type": "execute_result"
    }
   ],
   "source": [
    "import pandas as pd\n",
    "file_name=\"/home/hal20/data/data_000637.txt\"\n",
    "#first chunck of data\n",
    "data=pd.read_csv(file_name,nrows=9,skiprows=range(1,1))\n",
    "#del data[-1]\n",
    "#data.drop(data.columns[len(data.columns)-1], axis=1, inplace=True)\n",
    "data"
   ]
  },
  {
   "cell_type": "code",
   "execution_count": 199,
   "metadata": {},
   "outputs": [],
   "source": [
    "#check if .txt or .dat file -> this is a .txt file\n",
    "#!cat \"/home/hal20/data/data_000637.txt\""
   ]
  },
  {
   "cell_type": "code",
   "execution_count": 262,
   "metadata": {},
   "outputs": [
    {
     "data": {
      "text/html": [
       "<div>\n",
       "<style scoped>\n",
       "    .dataframe tbody tr th:only-of-type {\n",
       "        vertical-align: middle;\n",
       "    }\n",
       "\n",
       "    .dataframe tbody tr th {\n",
       "        vertical-align: top;\n",
       "    }\n",
       "\n",
       "    .dataframe thead th {\n",
       "        text-align: right;\n",
       "    }\n",
       "</style>\n",
       "<table border=\"1\" class=\"dataframe\">\n",
       "  <thead>\n",
       "    <tr style=\"text-align: right;\">\n",
       "      <th></th>\n",
       "      <th>fLength</th>\n",
       "      <th>fWidth</th>\n",
       "      <th>fSize</th>\n",
       "      <th>fConc</th>\n",
       "      <th>fConc1</th>\n",
       "      <th>fAsym</th>\n",
       "      <th>fM3Long</th>\n",
       "      <th>fM3Trans</th>\n",
       "      <th>fAlpha</th>\n",
       "      <th>fDist</th>\n",
       "    </tr>\n",
       "  </thead>\n",
       "  <tbody>\n",
       "    <tr>\n",
       "      <th>0</th>\n",
       "      <td>28.7967</td>\n",
       "      <td>16.0021</td>\n",
       "      <td>2.6449</td>\n",
       "      <td>0.3918</td>\n",
       "      <td>0.1982</td>\n",
       "      <td>27.7004</td>\n",
       "      <td>22.0110</td>\n",
       "      <td>-8.2027</td>\n",
       "      <td>40.0920</td>\n",
       "      <td>81.8828</td>\n",
       "    </tr>\n",
       "    <tr>\n",
       "      <th>1</th>\n",
       "      <td>31.6036</td>\n",
       "      <td>11.7235</td>\n",
       "      <td>2.5185</td>\n",
       "      <td>0.5303</td>\n",
       "      <td>0.3773</td>\n",
       "      <td>26.2722</td>\n",
       "      <td>23.8238</td>\n",
       "      <td>-9.9574</td>\n",
       "      <td>6.3609</td>\n",
       "      <td>205.2610</td>\n",
       "    </tr>\n",
       "    <tr>\n",
       "      <th>2</th>\n",
       "      <td>162.0520</td>\n",
       "      <td>136.0310</td>\n",
       "      <td>4.0612</td>\n",
       "      <td>0.0374</td>\n",
       "      <td>0.0187</td>\n",
       "      <td>116.7410</td>\n",
       "      <td>-64.8580</td>\n",
       "      <td>-45.2160</td>\n",
       "      <td>76.9600</td>\n",
       "      <td>256.7880</td>\n",
       "    </tr>\n",
       "    <tr>\n",
       "      <th>3</th>\n",
       "      <td>23.8172</td>\n",
       "      <td>9.5728</td>\n",
       "      <td>2.3385</td>\n",
       "      <td>0.6147</td>\n",
       "      <td>0.3922</td>\n",
       "      <td>27.2107</td>\n",
       "      <td>-6.4633</td>\n",
       "      <td>-7.1513</td>\n",
       "      <td>10.4490</td>\n",
       "      <td>116.7370</td>\n",
       "    </tr>\n",
       "    <tr>\n",
       "      <th>4</th>\n",
       "      <td>75.1362</td>\n",
       "      <td>30.9205</td>\n",
       "      <td>3.1611</td>\n",
       "      <td>0.3168</td>\n",
       "      <td>0.1832</td>\n",
       "      <td>-5.5277</td>\n",
       "      <td>28.5525</td>\n",
       "      <td>21.8393</td>\n",
       "      <td>4.6480</td>\n",
       "      <td>356.4620</td>\n",
       "    </tr>\n",
       "    <tr>\n",
       "      <th>...</th>\n",
       "      <td>...</td>\n",
       "      <td>...</td>\n",
       "      <td>...</td>\n",
       "      <td>...</td>\n",
       "      <td>...</td>\n",
       "      <td>...</td>\n",
       "      <td>...</td>\n",
       "      <td>...</td>\n",
       "      <td>...</td>\n",
       "      <td>...</td>\n",
       "    </tr>\n",
       "    <tr>\n",
       "      <th>995</th>\n",
       "      <td>20.0489</td>\n",
       "      <td>9.2926</td>\n",
       "      <td>2.4014</td>\n",
       "      <td>0.6429</td>\n",
       "      <td>0.4226</td>\n",
       "      <td>4.1464</td>\n",
       "      <td>-14.5626</td>\n",
       "      <td>10.2506</td>\n",
       "      <td>25.8830</td>\n",
       "      <td>187.8470</td>\n",
       "    </tr>\n",
       "    <tr>\n",
       "      <th>996</th>\n",
       "      <td>13.3396</td>\n",
       "      <td>10.5628</td>\n",
       "      <td>2.1917</td>\n",
       "      <td>0.7910</td>\n",
       "      <td>0.4019</td>\n",
       "      <td>-14.8910</td>\n",
       "      <td>-2.3901</td>\n",
       "      <td>11.9001</td>\n",
       "      <td>10.7959</td>\n",
       "      <td>182.9100</td>\n",
       "    </tr>\n",
       "    <tr>\n",
       "      <th>997</th>\n",
       "      <td>49.8521</td>\n",
       "      <td>11.4525</td>\n",
       "      <td>2.3971</td>\n",
       "      <td>0.4529</td>\n",
       "      <td>0.2305</td>\n",
       "      <td>52.6071</td>\n",
       "      <td>39.3622</td>\n",
       "      <td>-8.6905</td>\n",
       "      <td>6.0457</td>\n",
       "      <td>183.4950</td>\n",
       "    </tr>\n",
       "    <tr>\n",
       "      <th>998</th>\n",
       "      <td>29.2688</td>\n",
       "      <td>14.2779</td>\n",
       "      <td>2.5723</td>\n",
       "      <td>0.4016</td>\n",
       "      <td>0.2021</td>\n",
       "      <td>-21.2132</td>\n",
       "      <td>-23.9344</td>\n",
       "      <td>-8.2073</td>\n",
       "      <td>47.5590</td>\n",
       "      <td>102.7790</td>\n",
       "    </tr>\n",
       "    <tr>\n",
       "      <th>999</th>\n",
       "      <td>21.9470</td>\n",
       "      <td>20.3281</td>\n",
       "      <td>2.4864</td>\n",
       "      <td>0.4078</td>\n",
       "      <td>0.2072</td>\n",
       "      <td>12.8338</td>\n",
       "      <td>10.4007</td>\n",
       "      <td>14.8348</td>\n",
       "      <td>40.4341</td>\n",
       "      <td>137.8100</td>\n",
       "    </tr>\n",
       "  </tbody>\n",
       "</table>\n",
       "<p>1000 rows × 10 columns</p>\n",
       "</div>"
      ],
      "text/plain": [
       "      fLength    fWidth   fSize   fConc  fConc1     fAsym  fM3Long  fM3Trans  \\\n",
       "0     28.7967   16.0021  2.6449  0.3918  0.1982   27.7004  22.0110   -8.2027   \n",
       "1     31.6036   11.7235  2.5185  0.5303  0.3773   26.2722  23.8238   -9.9574   \n",
       "2    162.0520  136.0310  4.0612  0.0374  0.0187  116.7410 -64.8580  -45.2160   \n",
       "3     23.8172    9.5728  2.3385  0.6147  0.3922   27.2107  -6.4633   -7.1513   \n",
       "4     75.1362   30.9205  3.1611  0.3168  0.1832   -5.5277  28.5525   21.8393   \n",
       "..        ...       ...     ...     ...     ...       ...      ...       ...   \n",
       "995   20.0489    9.2926  2.4014  0.6429  0.4226    4.1464 -14.5626   10.2506   \n",
       "996   13.3396   10.5628  2.1917  0.7910  0.4019  -14.8910  -2.3901   11.9001   \n",
       "997   49.8521   11.4525  2.3971  0.4529  0.2305   52.6071  39.3622   -8.6905   \n",
       "998   29.2688   14.2779  2.5723  0.4016  0.2021  -21.2132 -23.9344   -8.2073   \n",
       "999   21.9470   20.3281  2.4864  0.4078  0.2072   12.8338  10.4007   14.8348   \n",
       "\n",
       "      fAlpha     fDist  \n",
       "0    40.0920   81.8828  \n",
       "1     6.3609  205.2610  \n",
       "2    76.9600  256.7880  \n",
       "3    10.4490  116.7370  \n",
       "4     4.6480  356.4620  \n",
       "..       ...       ...  \n",
       "995  25.8830  187.8470  \n",
       "996  10.7959  182.9100  \n",
       "997   6.0457  183.4950  \n",
       "998  47.5590  102.7790  \n",
       "999  40.4341  137.8100  \n",
       "\n",
       "[1000 rows x 10 columns]"
      ]
     },
     "execution_count": 262,
     "metadata": {},
     "output_type": "execute_result"
    }
   ],
   "source": [
    "import pandas as pd\n",
    "file_name=\"/home/hal20/data/magic04.data\"\n",
    "col=['fLength','fWidth','fSize',\n",
    "        'fConc','fConc1','fAsym',\n",
    "        'fM3Long','fM3Trans','fAlpha','fDist',\"Category\"]\n",
    "data=pd.read_csv(file_name,nrows=int(1e3))\n",
    "data.columns=col\n",
    "#data=data.drop(\"Category\",1)\n",
    "del data[\"Category\"]\n",
    "data\n",
    "#type are interpreted autom"
   ]
  },
  {
   "cell_type": "code",
   "execution_count": 264,
   "metadata": {},
   "outputs": [
    {
     "data": {
      "text/plain": [
       "<matplotlib.axes._subplots.AxesSubplot at 0x7fdfc7f15f10>"
      ]
     },
     "execution_count": 264,
     "metadata": {},
     "output_type": "execute_result"
    },
    {
     "data": {
      "image/png": "[encoded data removed]",
      "text/plain": [
       "<Figure size 432x288 with 1 Axes>"
      ]
     },
     "metadata": {
      "needs_background": "light"
     },
     "output_type": "display_data"
    }
   ],
   "source": [
    "#scattered plot to see them are correlated\n",
    "data.plot.scatter(\"fLength\",\"fWidth\")"
   ]
  },
  {
   "cell_type": "code",
   "execution_count": 31,
   "metadata": {},
   "outputs": [
    {
     "data": {
      "text/plain": [
       "array([[<matplotlib.axes._subplots.AxesSubplot object at 0x7f4c7bc0c730>]],\n",
       "      dtype=object)"
      ]
     },
     "execution_count": 31,
     "metadata": {},
     "output_type": "execute_result"
    },
    {
     "data": {
      "image/png": "[encoded data removed]",
      "text/plain": [
       "<Figure size 432x288 with 1 Axes>"
      ]
     },
     "metadata": {
      "needs_background": "light"
     },
     "output_type": "display_data"
    }
   ],
   "source": [
    "#plot distributions\n",
    "data.hist(\"fAlpha\")"
   ]
  },
  {
   "cell_type": "markdown",
   "metadata": {},
   "source": [
    "### ROOT\n",
    "\n",
    "[ROOT](https://root.cern.ch/) needs a special mention. It is still nowadays, and by far, the most convenient tool to store and manage complex datasets pertaining physics experiments where \"events\" are recorded on ea time\n",
    "\n",
    ", in particular High Energy, Nuclear, Astro physics. It allows a nested structure, with complex data objects (classes) and references between them.\n",
    "\n",
    "ROOT per se is obnoxious as it has been developed in the years as way-too-many-purposes package, but it's I/O is formidable.\n",
    "\n",
    "Installing ROOT is a pain, because it's thought to be for all: ML, Stat Analysis,...\n",
    "\n",
    "(bare) ROOT files can be opened with non-ROOT library, [uproot](https://github.com/scikit-hep/uproot)\n",
    "\n",
    "We'll use it during the course!"
   ]
  },
  {
   "cell_type": "code",
   "execution_count": 35,
   "metadata": {},
   "outputs": [
    {
     "data": {
      "text/plain": [
       "<TTree b'events' at 0x7f4c79d80eb0>"
      ]
     },
     "execution_count": 35,
     "metadata": {},
     "output_type": "execute_result"
    }
   ],
   "source": [
    "import uproot\n",
    "#root has tree, branches, leaves (complicated)\n",
    "events = uproot.open(\"https://scikit-hep.org/uproot/examples/Zmumu.root\")[\"events\"]\n",
    "events"
   ]
  },
  {
   "cell_type": "code",
   "execution_count": 36,
   "metadata": {},
   "outputs": [
    {
     "name": "stdout",
     "output_type": "stream",
     "text": [
      "Type                       (no streamer)              asstring()\n",
      "Run                        (no streamer)              asdtype('>i4')\n",
      "Event                      (no streamer)              asdtype('>i4')\n",
      "E1                         (no streamer)              asdtype('>f8')\n",
      "px1                        (no streamer)              asdtype('>f8')\n",
      "py1                        (no streamer)              asdtype('>f8')\n",
      "pz1                        (no streamer)              asdtype('>f8')\n",
      "pt1                        (no streamer)              asdtype('>f8')\n",
      "eta1                       (no streamer)              asdtype('>f8')\n",
      "phi1                       (no streamer)              asdtype('>f8')\n",
      "Q1                         (no streamer)              asdtype('>i4')\n",
      "E2                         (no streamer)              asdtype('>f8')\n",
      "px2                        (no streamer)              asdtype('>f8')\n",
      "py2                        (no streamer)              asdtype('>f8')\n",
      "pz2                        (no streamer)              asdtype('>f8')\n",
      "pt2                        (no streamer)              asdtype('>f8')\n",
      "eta2                       (no streamer)              asdtype('>f8')\n",
      "phi2                       (no streamer)              asdtype('>f8')\n",
      "Q2                         (no streamer)              asdtype('>i4')\n",
      "M                          (no streamer)              asdtype('>f8')\n"
     ]
    }
   ],
   "source": [
    "events.show()"
   ]
  },
  {
   "cell_type": "code",
   "execution_count": 37,
   "metadata": {},
   "outputs": [
    {
     "data": {
      "text/plain": [
       "array([82.20186639, 62.34492895, 62.34492895, ..., 81.27013558,\n",
       "       81.27013558, 81.56621735])"
      ]
     },
     "execution_count": 37,
     "metadata": {},
     "output_type": "execute_result"
    }
   ],
   "source": [
    "events.array(\"E1\")"
   ]
  }
 ],
 "metadata": {
  "kernelspec": {
   "display_name": "Python 3",
   "language": "python",
   "name": "python3"
  },
  "language_info": {
   "codemirror_mode": {
    "name": "ipython",
    "version": 3
   },
   "file_extension": ".py",
   "mimetype": "text/x-python",
   "name": "python",
   "nbconvert_exporter": "python",
   "pygments_lexer": "ipython3",
   "version": "3.8.3"
  }
 },
 "nbformat": 4,
 "nbformat_minor": 4
}
