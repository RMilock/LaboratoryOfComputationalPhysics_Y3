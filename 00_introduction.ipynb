{
 "cells": [
  {
   "cell_type": "markdown",
   "metadata": {},
   "source": [
    "branches are target to pull request, in mine i've is \"origin\", \n",
    "\n",
    "Check online documentation on jupyter [here](http://nbviewer.jupyter.org/urls/bitbucket.org/ipre/calico/raw/master/notebooks/Documentation/Reference%20Guide/Reference%20Guide.ipynb)"
   ]
  },
  {
   "cell_type": "code",
   "execution_count": 1,
   "metadata": {},
   "outputs": [
    {
     "name": "stdout",
     "output_type": "stream",
     "text": [
      "this is python, programming is fun again\n"
     ]
    }
   ],
   "source": [
    "print(\"this is python, programming is fun again\")"
   ]
  },
  {
   "cell_type": "markdown",
   "metadata": {},
   "source": [
    "## Variables"
   ]
  },
  {
   "cell_type": "code",
   "execution_count": 4,
   "metadata": {},
   "outputs": [
    {
     "name": "stdout",
     "output_type": "stream",
     "text": [
      "2\n",
      "7 6 then 4 3 is 76 43 strip(3): 76 4 split(): ['76', '43']\n",
      "This is a[0]: 76 and then a[1] 43\n",
      "variable is <class 'int'>\n",
      "b is <class 'str'>\n"
     ]
    }
   ],
   "source": [
    "# This b.t.w is a comment\n",
    "\n",
    "variable = 2; b=\"76 43\"\n",
    "print(variable); print(b[0], b[1], \"then\", b[3], b[4], \"is\", b, \"strip(3):\", b.strip(\"3\"), \"split():\", b.split());\n",
    "a=b.split(); print(\"This is a[0]:\", a[0],\"and then a[1]\",a[1])\n",
    "print(\"variable is\", type(variable)); \n",
    "print(\"b is\", type(b));"
   ]
  },
  {
   "cell_type": "markdown",
   "metadata": {},
   "source": [
    "the function `print` allows also more powerful way of outputting numbers:"
   ]
  },
  {
   "cell_type": "code",
   "execution_count": 35,
   "metadata": {},
   "outputs": [
    {
     "name": "stdout",
     "output_type": "stream",
     "text": [
      "Art: 4531111.400, Prince per unit:     33359.1\n"
     ]
    }
   ],
   "source": [
    "print (\"Art: %3.3f, Prince per unit: %11.1f\"%(4531111.4, 33359.058))"
   ]
  },
  {
   "cell_type": "code",
   "execution_count": 5,
   "metadata": {},
   "outputs": [
    {
     "name": "stdout",
     "output_type": "stream",
     "text": [
      "15\n",
      "5 10\n"
     ]
    }
   ],
   "source": [
    "a, b = 5,\" 10\"# a python trick to assign values to more than one variable\n",
    "print (a+int(b)) #ME: possible to translate \"abs\" as int?\n",
    "print( str(a)+b)"
   ]
  },
  {
   "cell_type": "markdown",
   "metadata": {},
   "source": [
    "try to sum a and b; if it doesn't work, cast one of the two and repeat"
   ]
  },
  {
   "cell_type": "code",
   "execution_count": 78,
   "metadata": {},
   "outputs": [
    {
     "name": "stdout",
     "output_type": "stream",
     "text": [
      "7 7 7\n"
     ]
    }
   ],
   "source": [
    "x=y=z=7 # multiple assignmet\n",
    "print (x,y,z)"
   ]
  },
  {
   "cell_type": "markdown",
   "metadata": {},
   "source": [
    "what if you reassign one of the three (say $y$)?"
   ]
  },
  {
   "cell_type": "code",
   "execution_count": 6,
   "metadata": {},
   "outputs": [
    {
     "name": "stdin",
     "output_type": "stream",
     "text": [
      "set the value of x 2\n"
     ]
    },
    {
     "name": "stdout",
     "output_type": "stream",
     "text": [
      "2\n"
     ]
    }
   ],
   "source": [
    "# can set values from command line as well (rarely used)\n",
    "x=input(\"set the value of x\")\n",
    "print (x)"
   ]
  },
  {
   "cell_type": "code",
   "execution_count": 82,
   "metadata": {},
   "outputs": [
    {
     "data": {
      "text/plain": [
       "'2'"
      ]
     },
     "execution_count": 82,
     "metadata": {},
     "output_type": "execute_result"
    }
   ],
   "source": [
    "x"
   ]
  },
  {
   "cell_type": "markdown",
   "metadata": {},
   "source": [
    "### Pointers in Python? \n",
    "\n",
    "\n",
    "Pointers are widely used in C and C++. Essentially, they are variables that hold the memory address of another variable.  Are there pointers in python? Essentially no.\n",
    "Pointers go against the [Zen of Python](https://www.python.org/dev/peps/pep-0020/#id3):\n",
    "\n",
    "*Pointers encourage implicit changes rather than explicit. Often, they are complex instead of simple, especially for beginners. Even worse, they beg for ways to shoot yourself in the foot, or do something really dangerous like read from a section of memory you were not supposed to.Python tends to try to abstract away implementation details like memory addresses from its users. Python often focuses on usability instead of speed. As a result, pointers in Python doesn’t really make sense.*\n",
    "\n",
    "\n",
    "It's all about two basics python concepts:\n",
    "1. Mutable vs Immutable objects\n",
    "2. Variable/Name in python\n",
    "\n",
    "Mutable objects can be changed, immutable cannot. I.e. when a new value is assigned to a given immutable \"variable\", a new object is in reality created. This as \"variable\" in python are actually just names bound to objects (PyObject).\n",
    "\n",
    "COMMENT:\n",
    "Name x is assigned to integer-> if change value -> use x but value is new and pointed to a new memeory location.\n",
    "x is pointing to a different memory so it's != from the initial one.\n",
    "\n",
    "List: memory location is equal even if change the value, since list are mutable\n",
    "\n",
    "For more details about all this refer e.g. to [this review](https://realpython.com/pointers-in-python/)"
   ]
  },
  {
   "cell_type": "markdown",
   "metadata": {},
   "source": [
    "## Operators\n",
    "the usual stuff.."
   ]
  },
  {
   "cell_type": "code",
   "execution_count": 10,
   "metadata": {},
   "outputs": [
    {
     "name": "stdout",
     "output_type": "stream",
     "text": [
      "1 0x7f0f0405c580\n",
      "3 0x7f0f0405c580\n",
      "4 94699789974944\n",
      "5 94699789974976\n",
      "loc of b is False\n"
     ]
    }
   ],
   "source": [
    "#mut\n",
    "a=[1,2,3]; print(a[0], hex(id(a)))\n",
    "a[0]=3; print(a[0], hex(id(a)))\n",
    "#immut\n",
    "c=b=4; print(b, id(b))\n",
    "b=5; print(b, id(b))\n",
    "print(\"loc of b is\", id(b)==id(c))\n",
    "#in fact b=5 is taking a new slot of memory"
   ]
  },
  {
   "cell_type": "code",
   "execution_count": 13,
   "metadata": {},
   "outputs": [
    {
     "name": "stdout",
     "output_type": "stream",
     "text": [
      "0.75\n",
      "0.75\n",
      "0\n",
      "3\n",
      "3\n",
      "13.0\n",
      "81\n",
      "81\n",
      "<class 'int'>\n",
      "<class 'float'>\n",
      "0.75\n",
      "0.75\n"
     ]
    }
   ],
   "source": [
    "print(3/4)\n",
    "print(3.0 / 4.0)\n",
    "print(3//4) #3//4 parte intera\n",
    "print(3*(1-1//4), \"or 3%4=\", 3%4) #3//4 parte intera\n",
    "print(41//3.) #pmethodarte intera \n",
    "print(3**4) #3^4\n",
    "print(pow(3,4))\n",
    "\n",
    "x=1\n",
    "print(type(x))\n",
    "y=1.0\n",
    "print(type(y))\n",
    "a,b = int(3), int(4)\n",
    "print(a/b)\n",
    "print(float(a)/float(b))"
   ]
  },
  {
   "cell_type": "markdown",
   "metadata": {},
   "source": [
    "## Iterators\n",
    "very similar to all other languages. Start exploring the `range` and `enumerate` functions"
   ]
  },
  {
   "cell_type": "code",
   "execution_count": 21,
   "metadata": {},
   "outputs": [
    {
     "name": "stdout",
     "output_type": "stream",
     "text": [
      "1\n",
      "2\n",
      "3\n",
      "4\n",
      "5\n",
      "6\n",
      "7\n",
      "8\n",
      "9\n",
      "now let's go with the while\n",
      "1\n",
      "2\n",
      "3\n",
      "4\n",
      "5\n",
      "6\n",
      "7\n",
      "8\n",
      "9\n"
     ]
    }
   ],
   "source": [
    "#new school\n",
    "for i in range(1,10): print (i)\n",
    "#or\n",
    "print(\"now let's go with the while\")\n",
    "i=1;\n",
    "while i<10: print(i); i+=1"
   ]
  },
  {
   "cell_type": "code",
   "execution_count": 52,
   "metadata": {},
   "outputs": [
    {
     "name": "stdout",
     "output_type": "stream",
     "text": [
      "0 4\n",
      "1 5\n",
      "2 2\n",
      "3 7\n",
      "[(0, 4), (1, 5), (2, 2), (3, 7)]\n"
     ]
    }
   ],
   "source": [
    "for i, j in enumerate([4,5,2,7]): print(i,j) #j = element i'm looping over\n",
    "#let's print enumerate\n",
    "a=list(enumerate([4,5,2,7]))\n",
    "print(a)"
   ]
  },
  {
   "cell_type": "code",
   "execution_count": 28,
   "metadata": {},
   "outputs": [
    {
     "name": "stdout",
     "output_type": "stream",
     "text": [
      "0 4\n",
      "1 5\n",
      "2 6\n",
      "[(0, 7), (1, 8), (2, 9)]\n"
     ]
    }
   ],
   "source": [
    "#use enumerate:\n",
    "for i, j in enumerate([4,5,6]):\n",
    "    print(i,j)\n",
    "a=list(enumerate([7,8,9]))\n",
    "print(a)"
   ]
  },
  {
   "cell_type": "markdown",
   "metadata": {},
   "source": [
    "## Conditional Statements\n",
    "Mind the indentation! "
   ]
  },
  {
   "cell_type": "code",
   "execution_count": 5,
   "metadata": {},
   "outputs": [
    {
     "name": "stdout",
     "output_type": "stream",
     "text": [
      "if\n"
     ]
    }
   ],
   "source": [
    "a = 25\n",
    "if a >= 22: print(\"if\")\n",
    "elif a >= 21: print(\"elif\")\n",
    "else: print(\"else\")"
   ]
  },
  {
   "cell_type": "markdown",
   "metadata": {},
   "source": [
    "try/except: a very important and powerful type of conditional expression, use it and use it with care "
   ]
  },
  {
   "cell_type": "code",
   "execution_count": 33,
   "metadata": {},
   "outputs": [
    {
     "name": "stdout",
     "output_type": "stream",
     "text": [
      "EXCEPT --> a =  4 is not a #. This is b =  3\n"
     ]
    }
   ],
   "source": [
    "a = \"4\"\n",
    "b=int(3)\n",
    "try:\n",
    "  b = a + 2 #can't be done: string + int but no error as output!\n",
    "  print (\"a =\", a, \" is a number. Then b =\",b)\n",
    "except:\n",
    "    print(\"EXCEPT --> a = \", a, \"is not a #. This is b = \", b)"
   ]
  },
  {
   "cell_type": "code",
   "execution_count": 41,
   "metadata": {},
   "outputs": [
    {
     "name": "stdout",
     "output_type": "stream",
     "text": [
      "Having casted a=3 string on a number, b= 5\n"
     ]
    }
   ],
   "source": [
    "#use try and except...\n",
    "a=\"3\"\n",
    "#print(\"error:\", a+2) #FEEL the error removing hastag\n",
    "try:\n",
    "    b=a+2\n",
    "    print(\"a\",a,\"and b=\",b);    \n",
    "except:\n",
    "    b=int(a)+2\n",
    "    print(\"Having casted a=3 string on a number, b=\",b)"
   ]
  },
  {
   "cell_type": "markdown",
   "metadata": {},
   "source": [
    "# Functions"
   ]
  },
  {
   "cell_type": "code",
   "execution_count": 115,
   "metadata": {},
   "outputs": [
    {
     "data": {
      "text/plain": [
       "11"
      ]
     },
     "execution_count": 115,
     "metadata": {},
     "output_type": "execute_result"
    }
   ],
   "source": [
    "def my_function(a,b=2): #b is fixed on 2 // \n",
    "    result = a+2*b\n",
    "    return result\n",
    "\n",
    "my_function(3,4) \n",
    "#check the type in the function are = to the one w/in the func"
   ]
  },
  {
   "cell_type": "markdown",
   "metadata": {},
   "source": [
    "Notice that the function does not specify the types of the arguments, like you would see in statically typed languages. This is both useful and dangerous. Use the try/except construction to make it safe"
   ]
  },
  {
   "cell_type": "markdown",
   "metadata": {},
   "source": [
    "function can edit \"global\" variables as well, i.e. variables that are declared outside the function scope. To do so the statement ```global``` is used. If no ```global``` is used, to have printable values use return "
   ]
  },
  {
   "cell_type": "code",
   "execution_count": 11,
   "metadata": {},
   "outputs": [
    {
     "name": "stdout",
     "output_type": "stream",
     "text": [
      "Python is fresh and for myfunc is old\n"
     ]
    }
   ],
   "source": [
    "x = \"awesome\"\n",
    "\n",
    "def myfunc(x):\n",
    "    return \"old\"\n",
    "    #print(\"Python is \" + x)\n",
    "\n",
    "x=\"fresh\"\n",
    "myfunc(x)\n",
    "print(\"Python is \" + x, \"and for myfunc is\", myfunc(x))"
   ]
  },
  {
   "cell_type": "code",
   "execution_count": 61,
   "metadata": {},
   "outputs": [
    {
     "name": "stdout",
     "output_type": "stream",
     "text": [
      "Python is fantastic and for myfunc is fantastic\n"
     ]
    }
   ],
   "source": [
    "x = \"awesome\"\n",
    "\n",
    "def myfunc(): #can't do myfun(x) since x is a global var\n",
    "    global x \n",
    "    x = \"fantastic\"\n",
    "\n",
    "x=\"fresh\"\n",
    "myfunc()\n",
    "print(\"Python is \" + x, \"and for myfunc is\", x)"
   ]
  },
  {
   "cell_type": "code",
   "execution_count": 12,
   "metadata": {},
   "outputs": [
    {
     "name": "stdout",
     "output_type": "stream",
     "text": [
      "fresh fantastic fresh old None\n"
     ]
    }
   ],
   "source": [
    "#use global and no -global\n",
    "\n",
    "x=\"fresh\"\n",
    "y=\"brutto\"\n",
    "\n",
    "def globfunc():\n",
    "    global y; y=\"fantastic\"\n",
    "    \n",
    "def noglobfunc(a):\n",
    "    a=\"old\";\n",
    "\n",
    "def noglobfunc1(a):\n",
    "    return \"old\";\n",
    "\n",
    "globfunc()\n",
    "noglobfunc(x)\n",
    "print(x,y,x,noglobfunc1(x),noglobfunc(x))"
   ]
  },
  {
   "cell_type": "markdown",
   "metadata": {},
   "source": [
    "### Tuples(Imm) as Strings,..., Lists(Mut), Dictionaries(Mut), Set(Mut)\n",
    "The lastes are the only mutable\n",
    "nb: if a string may be treated like a list is not mut"
   ]
  },
  {
   "cell_type": "markdown",
   "metadata": {},
   "source": [
    "## Lists\n",
    "Lists are exactly as the name implies. They are lists of objects. The objects can be any data type (including lists), and it is allowed to mix data types. In this way they are much more flexible than arrays. It is possible to append, delete, insert and count elements and to sort, reverse, etc. the list."
   ]
  },
  {
   "cell_type": "code",
   "execution_count": 30,
   "metadata": {},
   "outputs": [
    {
     "name": "stdout",
     "output_type": "stream",
     "text": [
      "['A', 'B', 'F', 'G', 'd', 'x', 'c', [1, 2, 3, 'this is a string', 5.3], 3] 1\n",
      "['A', 'B', 'F', 'G', 'x', 'c', [1, 2, 3, 'this is a string', 5.3], 3]\n",
      "<class 'str'>\n",
      "[1, 2, 3, 'this is a string', 5.3, 'whats']\n"
     ]
    }
   ],
   "source": [
    "a_list = [1,2,3,\"this is a string\",5.3]\n",
    "#can put whatever we want->key feature for data of != type\n",
    "b_list = [\"A\",\"B\",\"F\",\"G\",\"d\",\"x\",\"c\",a_list,3]\n",
    "print(b_list, b_list.count(\"d\"))\n",
    "b_list.remove(\"d\"); print(b_list)\n",
    "c= (\"whats\"); print(type(c)) #try w/ set and tuple\n",
    "a_list.append(c); print(a_list)"
   ]
  },
  {
   "cell_type": "markdown",
   "metadata": {},
   "source": [
    "Manipulations of list is rather intuitive"
   ]
  },
  {
   "cell_type": "code",
   "execution_count": 38,
   "metadata": {},
   "outputs": [
    {
     "name": "stdout",
     "output_type": "stream",
     "text": [
      "7\n",
      "15\n",
      "[3, 4]\n",
      "[7, 5, 3]\n",
      "[4, 10, 15]\n",
      "[4, 10, 15]\n",
      "[7, 5]\n"
     ]
    }
   ],
   "source": [
    "a = [7,5,3,4,10,15]\n",
    "print(a[0])\n",
    "print(a[-1])\n",
    "print(a[2:4]) #start=0th el, \":\"=min/mag stretti \n",
    "print(a[:3])\n",
    "print(a[3:])\n",
    "print(a[3:len(a)])\n",
    "print(a[0:2:1]) #a[start:stop(excluded):step]"
   ]
  },
  {
   "cell_type": "code",
   "execution_count": 41,
   "metadata": {},
   "outputs": [
    {
     "name": "stdout",
     "output_type": "stream",
     "text": [
      "[7, 5, 3, 4, 1, 10, 15]\n",
      "[7, 5, 3, 4, 1, 10, 15, 200]\n",
      "[200, 15, 10, 1, 4, 3, 5, 7]\n",
      "[1, 3, 4, 5, 7, 10, 15, 200]\n",
      "[1, 3, 4, 7, 10, 15, 200]\n",
      "[1, 3, 4, 7, 10, 200]\n",
      "[1, 3, 4, 7, 200]\n"
     ]
    }
   ],
   "source": [
    "a = [7,5,3,4,10,15]\n",
    "\n",
    "a.insert(0,0)\n",
    "print(a)\n",
    "a.append(200)\n",
    "print(a)\n",
    "a.reverse()\n",
    "print(a)\n",
    "a.sort()\n",
    "print(a)\n",
    "a.pop(3) #remove the 3rd element itself\n",
    "print(a)\n",
    "a.remove(15) #remove 15\n",
    "print(a)\n",
    "a.remove(a[4])\n",
    "print(a)"
   ]
  },
  {
   "cell_type": "markdown",
   "metadata": {},
   "source": [
    "Very fancy operations are possibile (known as list [comprehensions](https://docs.python.org/2/tutorial/datastructures.html?highlight=comprehensions))"
   ]
  },
  {
   "cell_type": "code",
   "execution_count": 146,
   "metadata": {},
   "outputs": [
    {
     "name": "stdout",
     "output_type": "stream",
     "text": [
      "[0, 2, 4, 6, 8, 10, 12, 14, 16, 18]\n"
     ]
    }
   ],
   "source": [
    "even_numbers = [x for x in range(20) if x % 2 == 0] #range or [1,2,3,4,5,6]\n",
    "print (even_numbers)"
   ]
  },
  {
   "cell_type": "markdown",
   "metadata": {},
   "source": [
    "strings are lists and feature all operations permitted on strings, comprehensions as well"
   ]
  },
  {
   "cell_type": "code",
   "execution_count": 65,
   "metadata": {},
   "outputs": [
    {
     "name": "stdout",
     "output_type": "stream",
     "text": [
      "['I', 't', ' ', 'w', 'a', 's', ' ', 'a', ' ', 'd', 'a', 'r', 'k', ' ', 'a', 'n', 'd', ' ', 's', 't', 'o', 'r', 'm', 'y', ' ', 'n', 'i', 'g', 'h', 't', '.']\n",
      "It w\n"
     ]
    }
   ],
   "source": [
    "#string = string of characters -> all list comprehensive is equal (also the \"space\" is a char)\n",
    "first_sentence = \"It was a dark and stormy night.\"\n",
    "characters = [x for x in first_sentence]\n",
    "print(characters); characters = first_sentence[:4]\n",
    "print(characters)\n",
    "n=int(0)"
   ]
  },
  {
   "cell_type": "code",
   "execution_count": 92,
   "metadata": {},
   "outputs": [
    {
     "name": "stdout",
     "output_type": "stream",
     "text": [
      "absba 140617353613936\n",
      "palindroma\n",
      "new current 140617813401392 ==? old one False\n"
     ]
    },
    {
     "ename": "TypeError",
     "evalue": "'str' object does not support item assignment",
     "output_type": "error",
     "traceback": [
      "\u001b[0;31m---------------------------------------------------------------------------\u001b[0m",
      "\u001b[0;31mTypeError\u001b[0m                                 Traceback (most recent call last)",
      "\u001b[0;32m<ipython-input-92-d34373729faa>\u001b[0m in \u001b[0;36m<module>\u001b[0;34m\u001b[0m\n\u001b[1;32m     13\u001b[0m \u001b[0;34m\u001b[0m\u001b[0m\n\u001b[1;32m     14\u001b[0m \u001b[0mispal\u001b[0m\u001b[0;34m=\u001b[0m\u001b[0;34m\"absba\"\u001b[0m\u001b[0;34m\u001b[0m\u001b[0;34m\u001b[0m\u001b[0m\n\u001b[0;32m---> 15\u001b[0;31m \u001b[0mispal\u001b[0m\u001b[0;34m[\u001b[0m\u001b[0;36m0\u001b[0m\u001b[0;34m]\u001b[0m\u001b[0;34m=\u001b[0m\u001b[0;34m\"3\"\u001b[0m\u001b[0;34m\u001b[0m\u001b[0;34m\u001b[0m\u001b[0m\n\u001b[0m\u001b[1;32m     16\u001b[0m \u001b[0;31m#replace\u001b[0m\u001b[0;34m\u001b[0m\u001b[0;34m\u001b[0m\u001b[0;34m\u001b[0m\u001b[0m\n\u001b[1;32m     17\u001b[0m \u001b[0mispal\u001b[0m \u001b[0;34m=\u001b[0m \u001b[0mispal\u001b[0m\u001b[0;34m.\u001b[0m\u001b[0mreplace\u001b[0m\u001b[0;34m(\u001b[0m\u001b[0;34m\"a\"\u001b[0m\u001b[0;34m,\u001b[0m\u001b[0;34m\"\"\u001b[0m\u001b[0;34m)\u001b[0m \u001b[0;31m#res--> bsb\u001b[0m\u001b[0;34m\u001b[0m\u001b[0;34m\u001b[0m\u001b[0m\n",
      "\u001b[0;31mTypeError\u001b[0m: 'str' object does not support item assignment"
     ]
    }
   ],
   "source": [
    "#check wheter a word is palindroma:\n",
    "ispal=\"absba\"\n",
    "print(ispal, id(ispal))\n",
    "l=int(len(ispal))\n",
    "count=0\n",
    "for i in range(int(l/2)):\n",
    "    if ispal[i]==ispal[-i-1]: count+=1\n",
    "if count==int(l/2): print(\"palindroma\")\n",
    "\n",
    "#strings are immmutable    \n",
    "ispal=\"new\"\n",
    "print(ispal, \"current\", id(ispal), \"==? old one\", id(ispal)==id(\"absba\"))\n",
    "\n",
    "ispal=\"absba\"\n",
    "#replace\n",
    "ispal = ispal.replace(\"a\",\"\") #res--> bsb\n",
    "print(\"new id changed\", id(ispal))\n",
    "ispal = \"\".join(ispal[i] for i in range(1,len(ispal)) if i!=0) #res --> sb\n",
    "print(ispal, \"new id changed\",id(ispal))\n"
   ]
  },
  {
   "cell_type": "markdown",
   "metadata": {},
   "source": [
    "# Tuples\n",
    "Tuples are like lists with one very important difference. Tuples are not changeable."
   ]
  },
  {
   "cell_type": "code",
   "execution_count": 67,
   "metadata": {},
   "outputs": [
    {
     "name": "stdout",
     "output_type": "stream",
     "text": [
      "(1, 2, 3, 4)\n"
     ]
    },
    {
     "ename": "TypeError",
     "evalue": "'tuple' object does not support item assignment",
     "output_type": "error",
     "traceback": [
      "\u001b[0;31m---------------------------------------------------------------------------\u001b[0m",
      "\u001b[0;31mTypeError\u001b[0m                                 Traceback (most recent call last)",
      "\u001b[0;32m<ipython-input-67-c20f39aec2a4>\u001b[0m in \u001b[0;36m<module>\u001b[0;34m\u001b[0m\n\u001b[1;32m      2\u001b[0m \u001b[0ma\u001b[0m \u001b[0;34m=\u001b[0m \u001b[0;34m(\u001b[0m\u001b[0;36m1\u001b[0m\u001b[0;34m,\u001b[0m\u001b[0;36m2\u001b[0m\u001b[0;34m,\u001b[0m\u001b[0;36m3\u001b[0m\u001b[0;34m,\u001b[0m\u001b[0;36m4\u001b[0m\u001b[0;34m)\u001b[0m\u001b[0;34m\u001b[0m\u001b[0;34m\u001b[0m\u001b[0m\n\u001b[1;32m      3\u001b[0m \u001b[0mprint\u001b[0m\u001b[0;34m(\u001b[0m\u001b[0ma\u001b[0m\u001b[0;34m)\u001b[0m\u001b[0;34m\u001b[0m\u001b[0;34m\u001b[0m\u001b[0m\n\u001b[0;32m----> 4\u001b[0;31m \u001b[0ma\u001b[0m\u001b[0;34m[\u001b[0m\u001b[0;36m1\u001b[0m\u001b[0;34m]\u001b[0m \u001b[0;34m=\u001b[0m \u001b[0;36m2\u001b[0m \u001b[0;31m#error, since tuple are immutable\u001b[0m\u001b[0;34m\u001b[0m\u001b[0;34m\u001b[0m\u001b[0m\n\u001b[0m",
      "\u001b[0;31mTypeError\u001b[0m: 'tuple' object does not support item assignment"
     ]
    }
   ],
   "source": [
    "#immutable list=tuple\n",
    "a = (1,2,3,4) #a list would have [,]\n",
    "print(a)\n",
    "a[1] = 2 #error, since tuple are immutable"
   ]
  },
  {
   "cell_type": "markdown",
   "metadata": {},
   "source": [
    "## Dictionaries\n",
    "Dictionaries are of paramount importance and a major asset of python.\n",
    "They are unordered, keyed lists: unor w/in a list & elements are keyed (int defines the alloc)= there's a key and a value. Lists are ordered, and the index may be viewed as a key.\n",
    "Useful to pack infos and then access to it"
   ]
  },
  {
   "cell_type": "code",
   "execution_count": 15,
   "metadata": {},
   "outputs": [
    {
     "name": "stdout",
     "output_type": "stream",
     "text": [
      "4\n",
      "['a,bc']\n"
     ]
    }
   ],
   "source": [
    "a = {'anItem': \"A\", \n",
    "     'anotherItem': [\"a,bc\"],\n",
    "     3:\"C\",\n",
    "     'afourthItem':7, \n",
    "     2:{1:2,\"3\":[3,4]}} # dictionary example\n",
    "\n",
    "print(a[2][\"3\"][1]) #key-->key-->element\n",
    "print(a[\"anotherItem\"])\n",
    "#nb:\n",
    "#anItem associated key; \"A\" associted to A // a value can be a Dictionary itself (ex. the value of \"2\" --- nested structure)\n",
    "#key simple but values could be whatever"
   ]
  },
  {
   "cell_type": "code",
   "execution_count": 18,
   "metadata": {},
   "outputs": [
    {
     "name": "stdout",
     "output_type": "stream",
     "text": [
      "anItem\n",
      "anotherItem\n",
      "3\n",
      "afourthItem\n",
      "2\n",
      "\n",
      "A\n",
      "['a,bc']\n",
      "C\n",
      "7\n",
      "{1: 2, '3': [3, 4]}\n"
     ]
    }
   ],
   "source": [
    "for i in a: print (i)  #print only keys\n",
    "print()\n",
    "for key in a: print(a[key])"
   ]
  },
  {
   "cell_type": "markdown",
   "metadata": {},
   "source": [
    "## Strings and String Handling (Ad Hoc Methods)\n",
    "One of the most important features of Python is its powerful and easy handling of strings. Defining strings is simple enough in most languages. But in Python, it is easy to search and replace, convert cases, concatenate, or access elements. We’ll discuss a few of these here. For a complete list, see this [tutorial]( http://www.tutorialspoint.com/python/python_strings.htm)"
   ]
  },
  {
   "cell_type": "code",
   "execution_count": 95,
   "metadata": {},
   "outputs": [
    {
     "name": "stdout",
     "output_type": "stream",
     "text": [
      "A string of characters, with newline \n",
      " CAPITALS, etc.\n",
      "A string of characters, with newline \n",
      " CAPITALS, etc.\n",
      " We can format strings for printing 5.00\n",
      "Error if a[0]=n\n"
     ]
    }
   ],
   "source": [
    "a = \"A string of characters, with newline \\n CAPITALS, etc.\"\n",
    "print(a)\n",
    "b=5.0\n",
    "newstring = a + \"\\n We can format strings for printing %.2f\"\n",
    "print(newstring %b)\n",
    "try:\n",
    "    a[0]=\"n\"; print(a)\n",
    "except:\n",
    "    print(\"Error if a[0]=n\")"
   ]
  },
  {
   "cell_type": "markdown",
   "metadata": {},
   "source": [
    "Operations are easy (remember strings are lists!)"
   ]
  },
  {
   "cell_type": "code",
   "execution_count": 96,
   "metadata": {},
   "outputs": [
    {
     "name": "stdout",
     "output_type": "stream",
     "text": [
      "BC\n",
      "ABC D\n"
     ]
    }
   ],
   "source": [
    "a = \"ABC DEFG\"\n",
    "print(a[1:3])\n",
    "print(a[0:5])"
   ]
  },
  {
   "cell_type": "code",
   "execution_count": 8,
   "metadata": {},
   "outputs": [
    {
     "name": "stdout",
     "output_type": "stream",
     "text": [
      "in modalità telematica\n",
      "IN MODALITÀ TELEMATICA\n",
      "5\n",
      "in moAAAlità telematica\n",
      "in modalità telematica\n",
      "in modalità BBBatica\n"
     ]
    },
    {
     "data": {
      "text/plain": [
       "1"
      ]
     },
     "execution_count": 8,
     "metadata": {},
     "output_type": "execute_result"
    }
   ],
   "source": [
    "a = \"in modalità telematica\"\n",
    "print(a.lower())\n",
    "print(a.upper())\n",
    "print(a.find('d'))\n",
    "print(a.replace('da','AAA'))\n",
    "print(a) #replace creates a copy since strings are immut\n",
    "a=a.replace('telem','BBB')\n",
    "print(a)\n",
    "a.count('c')"
   ]
  },
  {
   "cell_type": "code",
   "execution_count": 57,
   "metadata": {},
   "outputs": [
    {
     "data": {
      "text/plain": [
       "'abc defg'"
      ]
     },
     "execution_count": 57,
     "metadata": {},
     "output_type": "execute_result"
    }
   ],
   "source": [
    "\"ABC defg\".lower()\n",
    "\n"
   ]
  }
 ],
 "metadata": {
  "kernelspec": {
   "display_name": "Python 3",
   "language": "python",
   "name": "python3"
  },
  "language_info": {
   "codemirror_mode": {
    "name": "ipython",
    "version": 3
   },
   "file_extension": ".py",
   "mimetype": "text/x-python",
   "name": "python",
   "nbconvert_exporter": "python",
   "pygments_lexer": "ipython3",
   "version": "3.8.3"
  }
 },
 "nbformat": 4,
 "nbformat_minor": 4
}
